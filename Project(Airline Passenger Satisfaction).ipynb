{
 "cells": [
  {
   "cell_type": "code",
   "execution_count": 1,
   "id": "b03c11a7",
   "metadata": {},
   "outputs": [],
   "source": [
    "import pandas as pd\n",
    "import numpy as np\n",
    "import warnings\n",
    "warnings.filterwarnings('ignore')\n",
    "import matplotlib.pyplot as plt\n",
    "import seaborn as sns"
   ]
  },
  {
   "cell_type": "markdown",
   "id": "6f05467b",
   "metadata": {},
   "source": [
    "# Train file"
   ]
  },
  {
   "cell_type": "code",
   "execution_count": 2,
   "id": "1a7be8d4",
   "metadata": {
    "scrolled": true
   },
   "outputs": [
    {
     "data": {
      "text/html": [
       "<div>\n",
       "<style scoped>\n",
       "    .dataframe tbody tr th:only-of-type {\n",
       "        vertical-align: middle;\n",
       "    }\n",
       "\n",
       "    .dataframe tbody tr th {\n",
       "        vertical-align: top;\n",
       "    }\n",
       "\n",
       "    .dataframe thead th {\n",
       "        text-align: right;\n",
       "    }\n",
       "</style>\n",
       "<table border=\"1\" class=\"dataframe\">\n",
       "  <thead>\n",
       "    <tr style=\"text-align: right;\">\n",
       "      <th></th>\n",
       "      <th>Unnamed: 0</th>\n",
       "      <th>id</th>\n",
       "      <th>Gender</th>\n",
       "      <th>Customer Type</th>\n",
       "      <th>Age</th>\n",
       "      <th>Type of Travel</th>\n",
       "      <th>Class</th>\n",
       "      <th>Flight Distance</th>\n",
       "      <th>Inflight wifi service</th>\n",
       "      <th>Departure/Arrival time convenient</th>\n",
       "      <th>...</th>\n",
       "      <th>Inflight entertainment</th>\n",
       "      <th>On-board service</th>\n",
       "      <th>Leg room service</th>\n",
       "      <th>Baggage handling</th>\n",
       "      <th>Checkin service</th>\n",
       "      <th>Inflight service</th>\n",
       "      <th>Cleanliness</th>\n",
       "      <th>Departure Delay in Minutes</th>\n",
       "      <th>Arrival Delay in Minutes</th>\n",
       "      <th>satisfaction</th>\n",
       "    </tr>\n",
       "  </thead>\n",
       "  <tbody>\n",
       "    <tr>\n",
       "      <th>0</th>\n",
       "      <td>0</td>\n",
       "      <td>70172</td>\n",
       "      <td>Male</td>\n",
       "      <td>Loyal Customer</td>\n",
       "      <td>13</td>\n",
       "      <td>Personal Travel</td>\n",
       "      <td>Eco Plus</td>\n",
       "      <td>460</td>\n",
       "      <td>3</td>\n",
       "      <td>4</td>\n",
       "      <td>...</td>\n",
       "      <td>5</td>\n",
       "      <td>4</td>\n",
       "      <td>3</td>\n",
       "      <td>4</td>\n",
       "      <td>4</td>\n",
       "      <td>5</td>\n",
       "      <td>5</td>\n",
       "      <td>25</td>\n",
       "      <td>18.0</td>\n",
       "      <td>neutral or dissatisfied</td>\n",
       "    </tr>\n",
       "    <tr>\n",
       "      <th>1</th>\n",
       "      <td>1</td>\n",
       "      <td>5047</td>\n",
       "      <td>Male</td>\n",
       "      <td>disloyal Customer</td>\n",
       "      <td>25</td>\n",
       "      <td>Business travel</td>\n",
       "      <td>Business</td>\n",
       "      <td>235</td>\n",
       "      <td>3</td>\n",
       "      <td>2</td>\n",
       "      <td>...</td>\n",
       "      <td>1</td>\n",
       "      <td>1</td>\n",
       "      <td>5</td>\n",
       "      <td>3</td>\n",
       "      <td>1</td>\n",
       "      <td>4</td>\n",
       "      <td>1</td>\n",
       "      <td>1</td>\n",
       "      <td>6.0</td>\n",
       "      <td>neutral or dissatisfied</td>\n",
       "    </tr>\n",
       "    <tr>\n",
       "      <th>2</th>\n",
       "      <td>2</td>\n",
       "      <td>110028</td>\n",
       "      <td>Female</td>\n",
       "      <td>Loyal Customer</td>\n",
       "      <td>26</td>\n",
       "      <td>Business travel</td>\n",
       "      <td>Business</td>\n",
       "      <td>1142</td>\n",
       "      <td>2</td>\n",
       "      <td>2</td>\n",
       "      <td>...</td>\n",
       "      <td>5</td>\n",
       "      <td>4</td>\n",
       "      <td>3</td>\n",
       "      <td>4</td>\n",
       "      <td>4</td>\n",
       "      <td>4</td>\n",
       "      <td>5</td>\n",
       "      <td>0</td>\n",
       "      <td>0.0</td>\n",
       "      <td>satisfied</td>\n",
       "    </tr>\n",
       "    <tr>\n",
       "      <th>3</th>\n",
       "      <td>3</td>\n",
       "      <td>24026</td>\n",
       "      <td>Female</td>\n",
       "      <td>Loyal Customer</td>\n",
       "      <td>25</td>\n",
       "      <td>Business travel</td>\n",
       "      <td>Business</td>\n",
       "      <td>562</td>\n",
       "      <td>2</td>\n",
       "      <td>5</td>\n",
       "      <td>...</td>\n",
       "      <td>2</td>\n",
       "      <td>2</td>\n",
       "      <td>5</td>\n",
       "      <td>3</td>\n",
       "      <td>1</td>\n",
       "      <td>4</td>\n",
       "      <td>2</td>\n",
       "      <td>11</td>\n",
       "      <td>9.0</td>\n",
       "      <td>neutral or dissatisfied</td>\n",
       "    </tr>\n",
       "    <tr>\n",
       "      <th>4</th>\n",
       "      <td>4</td>\n",
       "      <td>119299</td>\n",
       "      <td>Male</td>\n",
       "      <td>Loyal Customer</td>\n",
       "      <td>61</td>\n",
       "      <td>Business travel</td>\n",
       "      <td>Business</td>\n",
       "      <td>214</td>\n",
       "      <td>3</td>\n",
       "      <td>3</td>\n",
       "      <td>...</td>\n",
       "      <td>3</td>\n",
       "      <td>3</td>\n",
       "      <td>4</td>\n",
       "      <td>4</td>\n",
       "      <td>3</td>\n",
       "      <td>3</td>\n",
       "      <td>3</td>\n",
       "      <td>0</td>\n",
       "      <td>0.0</td>\n",
       "      <td>satisfied</td>\n",
       "    </tr>\n",
       "  </tbody>\n",
       "</table>\n",
       "<p>5 rows × 25 columns</p>\n",
       "</div>"
      ],
      "text/plain": [
       "   Unnamed: 0      id  Gender      Customer Type  Age   Type of Travel  \\\n",
       "0           0   70172    Male     Loyal Customer   13  Personal Travel   \n",
       "1           1    5047    Male  disloyal Customer   25  Business travel   \n",
       "2           2  110028  Female     Loyal Customer   26  Business travel   \n",
       "3           3   24026  Female     Loyal Customer   25  Business travel   \n",
       "4           4  119299    Male     Loyal Customer   61  Business travel   \n",
       "\n",
       "      Class  Flight Distance  Inflight wifi service  \\\n",
       "0  Eco Plus              460                      3   \n",
       "1  Business              235                      3   \n",
       "2  Business             1142                      2   \n",
       "3  Business              562                      2   \n",
       "4  Business              214                      3   \n",
       "\n",
       "   Departure/Arrival time convenient  ...  Inflight entertainment  \\\n",
       "0                                  4  ...                       5   \n",
       "1                                  2  ...                       1   \n",
       "2                                  2  ...                       5   \n",
       "3                                  5  ...                       2   \n",
       "4                                  3  ...                       3   \n",
       "\n",
       "   On-board service  Leg room service  Baggage handling  Checkin service  \\\n",
       "0                 4                 3                 4                4   \n",
       "1                 1                 5                 3                1   \n",
       "2                 4                 3                 4                4   \n",
       "3                 2                 5                 3                1   \n",
       "4                 3                 4                 4                3   \n",
       "\n",
       "   Inflight service  Cleanliness  Departure Delay in Minutes  \\\n",
       "0                 5            5                          25   \n",
       "1                 4            1                           1   \n",
       "2                 4            5                           0   \n",
       "3                 4            2                          11   \n",
       "4                 3            3                           0   \n",
       "\n",
       "   Arrival Delay in Minutes             satisfaction  \n",
       "0                      18.0  neutral or dissatisfied  \n",
       "1                       6.0  neutral or dissatisfied  \n",
       "2                       0.0                satisfied  \n",
       "3                       9.0  neutral or dissatisfied  \n",
       "4                       0.0                satisfied  \n",
       "\n",
       "[5 rows x 25 columns]"
      ]
     },
     "execution_count": 2,
     "metadata": {},
     "output_type": "execute_result"
    }
   ],
   "source": [
    "traindf = pd.read_csv(\"./DataSets/Airline/train.csv\")\n",
    "traindf.head()"
   ]
  },
  {
   "cell_type": "code",
   "execution_count": 3,
   "id": "8f4dc083",
   "metadata": {
    "scrolled": true
   },
   "outputs": [
    {
     "data": {
      "text/plain": [
       "(103904, 25)"
      ]
     },
     "execution_count": 3,
     "metadata": {},
     "output_type": "execute_result"
    }
   ],
   "source": [
    "traindf.shape"
   ]
  },
  {
   "cell_type": "markdown",
   "id": "f598ea75",
   "metadata": {},
   "source": [
    "# Cleaning Of Train file"
   ]
  },
  {
   "cell_type": "markdown",
   "id": "28d6a99b",
   "metadata": {},
   "source": [
    "## Dropping Variables"
   ]
  },
  {
   "cell_type": "markdown",
   "id": "ec0f001b",
   "metadata": {},
   "source": [
    "#### Unnamed Column"
   ]
  },
  {
   "cell_type": "code",
   "execution_count": 4,
   "id": "7fb4d16d",
   "metadata": {},
   "outputs": [],
   "source": [
    "traindf = traindf.drop('Unnamed: 0',axis = 1)"
   ]
  },
  {
   "cell_type": "markdown",
   "id": "db0f1698",
   "metadata": {},
   "source": [
    "#### Departure Delay in Minutes Column"
   ]
  },
  {
   "cell_type": "code",
   "execution_count": 5,
   "id": "c76111a7",
   "metadata": {},
   "outputs": [],
   "source": [
    "traindf = traindf.drop('Departure Delay in Minutes',axis = 1)"
   ]
  },
  {
   "cell_type": "markdown",
   "id": "56bbd072",
   "metadata": {},
   "source": [
    "#### Arrival Delay in Minutes Column"
   ]
  },
  {
   "cell_type": "code",
   "execution_count": 6,
   "id": "61b2e97a",
   "metadata": {},
   "outputs": [],
   "source": [
    "traindf = traindf.drop('Arrival Delay in Minutes',axis = 1)"
   ]
  },
  {
   "cell_type": "markdown",
   "id": "62d9186e",
   "metadata": {},
   "source": [
    "#### Id Column"
   ]
  },
  {
   "cell_type": "code",
   "execution_count": 7,
   "id": "13e970af",
   "metadata": {},
   "outputs": [],
   "source": [
    "traindf = traindf.drop('id',axis = 1)"
   ]
  },
  {
   "cell_type": "markdown",
   "id": "374cc2f4",
   "metadata": {},
   "source": [
    "## Null value Treatment"
   ]
  },
  {
   "cell_type": "code",
   "execution_count": 8,
   "id": "99b94fec",
   "metadata": {},
   "outputs": [
    {
     "data": {
      "text/plain": [
       "Gender                               0\n",
       "Customer Type                        0\n",
       "Age                                  0\n",
       "Type of Travel                       0\n",
       "Class                                0\n",
       "Flight Distance                      0\n",
       "Inflight wifi service                0\n",
       "Departure/Arrival time convenient    0\n",
       "Ease of Online booking               0\n",
       "Gate location                        0\n",
       "Food and drink                       0\n",
       "Online boarding                      0\n",
       "Seat comfort                         0\n",
       "Inflight entertainment               0\n",
       "On-board service                     0\n",
       "Leg room service                     0\n",
       "Baggage handling                     0\n",
       "Checkin service                      0\n",
       "Inflight service                     0\n",
       "Cleanliness                          0\n",
       "satisfaction                         0\n",
       "dtype: int64"
      ]
     },
     "execution_count": 8,
     "metadata": {},
     "output_type": "execute_result"
    }
   ],
   "source": [
    "traindf.isnull().sum()"
   ]
  },
  {
   "cell_type": "markdown",
   "id": "84ea6913",
   "metadata": {},
   "source": [
    "## Datatypes Conversion"
   ]
  },
  {
   "cell_type": "code",
   "execution_count": 9,
   "id": "2fc52d63",
   "metadata": {},
   "outputs": [
    {
     "data": {
      "text/plain": [
       "Gender                               object\n",
       "Customer Type                        object\n",
       "Age                                   int64\n",
       "Type of Travel                       object\n",
       "Class                                object\n",
       "Flight Distance                       int64\n",
       "Inflight wifi service                 int64\n",
       "Departure/Arrival time convenient     int64\n",
       "Ease of Online booking                int64\n",
       "Gate location                         int64\n",
       "Food and drink                        int64\n",
       "Online boarding                       int64\n",
       "Seat comfort                          int64\n",
       "Inflight entertainment                int64\n",
       "On-board service                      int64\n",
       "Leg room service                      int64\n",
       "Baggage handling                      int64\n",
       "Checkin service                       int64\n",
       "Inflight service                      int64\n",
       "Cleanliness                           int64\n",
       "satisfaction                         object\n",
       "dtype: object"
      ]
     },
     "execution_count": 9,
     "metadata": {},
     "output_type": "execute_result"
    }
   ],
   "source": [
    "traindf.dtypes"
   ]
  },
  {
   "cell_type": "code",
   "execution_count": 10,
   "id": "166da816",
   "metadata": {},
   "outputs": [],
   "source": [
    "from sklearn.preprocessing import LabelEncoder\n",
    "le = LabelEncoder()"
   ]
  },
  {
   "cell_type": "markdown",
   "id": "a3af2def",
   "metadata": {},
   "source": [
    "#### Gender Column"
   ]
  },
  {
   "cell_type": "code",
   "execution_count": 11,
   "id": "1c9b5f84",
   "metadata": {},
   "outputs": [
    {
     "data": {
      "text/plain": [
       "Female    52727\n",
       "Male      51177\n",
       "Name: Gender, dtype: int64"
      ]
     },
     "execution_count": 11,
     "metadata": {},
     "output_type": "execute_result"
    }
   ],
   "source": [
    "traindf[\"Gender\"].value_counts()"
   ]
  },
  {
   "cell_type": "code",
   "execution_count": 12,
   "id": "4b6bb63b",
   "metadata": {},
   "outputs": [],
   "source": [
    "traindf[\"Gender\"] = le.fit_transform(traindf[\"Gender\"])"
   ]
  },
  {
   "cell_type": "code",
   "execution_count": 13,
   "id": "ec909b9f",
   "metadata": {},
   "outputs": [
    {
     "data": {
      "text/plain": [
       "0    52727\n",
       "1    51177\n",
       "Name: Gender, dtype: int64"
      ]
     },
     "execution_count": 13,
     "metadata": {},
     "output_type": "execute_result"
    }
   ],
   "source": [
    "traindf[\"Gender\"].value_counts()"
   ]
  },
  {
   "cell_type": "markdown",
   "id": "2021e62d",
   "metadata": {},
   "source": [
    "#### Customer Type Column"
   ]
  },
  {
   "cell_type": "code",
   "execution_count": 14,
   "id": "07af9146",
   "metadata": {},
   "outputs": [
    {
     "data": {
      "text/plain": [
       "Loyal Customer       84923\n",
       "disloyal Customer    18981\n",
       "Name: Customer Type, dtype: int64"
      ]
     },
     "execution_count": 14,
     "metadata": {},
     "output_type": "execute_result"
    }
   ],
   "source": [
    "traindf[\"Customer Type\"].value_counts()"
   ]
  },
  {
   "cell_type": "code",
   "execution_count": 15,
   "id": "99d05285",
   "metadata": {},
   "outputs": [],
   "source": [
    "traindf[\"Customer Type\"] = le.fit_transform(traindf[\"Customer Type\"])"
   ]
  },
  {
   "cell_type": "code",
   "execution_count": 16,
   "id": "e2df3f3a",
   "metadata": {},
   "outputs": [
    {
     "data": {
      "text/plain": [
       "0    84923\n",
       "1    18981\n",
       "Name: Customer Type, dtype: int64"
      ]
     },
     "execution_count": 16,
     "metadata": {},
     "output_type": "execute_result"
    }
   ],
   "source": [
    "traindf[\"Customer Type\"].value_counts()"
   ]
  },
  {
   "cell_type": "markdown",
   "id": "9251b383",
   "metadata": {},
   "source": [
    "#### Type of Travel Column"
   ]
  },
  {
   "cell_type": "code",
   "execution_count": 17,
   "id": "fd565d2a",
   "metadata": {},
   "outputs": [
    {
     "data": {
      "text/plain": [
       "Business travel    71655\n",
       "Personal Travel    32249\n",
       "Name: Type of Travel, dtype: int64"
      ]
     },
     "execution_count": 17,
     "metadata": {},
     "output_type": "execute_result"
    }
   ],
   "source": [
    "traindf[\"Type of Travel\"].value_counts()"
   ]
  },
  {
   "cell_type": "code",
   "execution_count": 18,
   "id": "6ef915f5",
   "metadata": {},
   "outputs": [],
   "source": [
    "traindf[\"Type of Travel\"] = le.fit_transform(traindf[\"Type of Travel\"])"
   ]
  },
  {
   "cell_type": "code",
   "execution_count": 19,
   "id": "393eaec9",
   "metadata": {},
   "outputs": [
    {
     "data": {
      "text/plain": [
       "0    71655\n",
       "1    32249\n",
       "Name: Type of Travel, dtype: int64"
      ]
     },
     "execution_count": 19,
     "metadata": {},
     "output_type": "execute_result"
    }
   ],
   "source": [
    "traindf[\"Type of Travel\"].value_counts()"
   ]
  },
  {
   "cell_type": "markdown",
   "id": "18179cd0",
   "metadata": {},
   "source": [
    "#### Class Column"
   ]
  },
  {
   "cell_type": "code",
   "execution_count": 20,
   "id": "ea440ae4",
   "metadata": {},
   "outputs": [
    {
     "data": {
      "text/plain": [
       "Business    49665\n",
       "Eco         46745\n",
       "Eco Plus     7494\n",
       "Name: Class, dtype: int64"
      ]
     },
     "execution_count": 20,
     "metadata": {},
     "output_type": "execute_result"
    }
   ],
   "source": [
    "traindf[\"Class\"].value_counts()"
   ]
  },
  {
   "cell_type": "code",
   "execution_count": 21,
   "id": "44768d2d",
   "metadata": {},
   "outputs": [],
   "source": [
    "traindf[\"Class\"] = le.fit_transform(traindf[\"Gender\"])"
   ]
  },
  {
   "cell_type": "code",
   "execution_count": 22,
   "id": "ff5965dd",
   "metadata": {},
   "outputs": [
    {
     "data": {
      "text/plain": [
       "0    52727\n",
       "1    51177\n",
       "Name: Class, dtype: int64"
      ]
     },
     "execution_count": 22,
     "metadata": {},
     "output_type": "execute_result"
    }
   ],
   "source": [
    "traindf[\"Class\"].value_counts()"
   ]
  },
  {
   "cell_type": "markdown",
   "id": "17521274",
   "metadata": {},
   "source": [
    "#### Satisfaction Column"
   ]
  },
  {
   "cell_type": "code",
   "execution_count": 23,
   "id": "3a7ec2e2",
   "metadata": {},
   "outputs": [
    {
     "data": {
      "text/plain": [
       "neutral or dissatisfied    58879\n",
       "satisfied                  45025\n",
       "Name: satisfaction, dtype: int64"
      ]
     },
     "execution_count": 23,
     "metadata": {},
     "output_type": "execute_result"
    }
   ],
   "source": [
    "traindf[\"satisfaction\"].value_counts()"
   ]
  },
  {
   "cell_type": "code",
   "execution_count": 24,
   "id": "5b97a77c",
   "metadata": {},
   "outputs": [],
   "source": [
    "traindf[\"satisfaction\"] = le.fit_transform(traindf[\"satisfaction\"])"
   ]
  },
  {
   "cell_type": "code",
   "execution_count": 25,
   "id": "0c7b8f66",
   "metadata": {},
   "outputs": [
    {
     "data": {
      "text/plain": [
       "0    58879\n",
       "1    45025\n",
       "Name: satisfaction, dtype: int64"
      ]
     },
     "execution_count": 25,
     "metadata": {},
     "output_type": "execute_result"
    }
   ],
   "source": [
    "traindf[\"satisfaction\"].value_counts()"
   ]
  },
  {
   "cell_type": "code",
   "execution_count": 26,
   "id": "c751be7b",
   "metadata": {},
   "outputs": [
    {
     "data": {
      "text/plain": [
       "Gender                               int32\n",
       "Customer Type                        int32\n",
       "Age                                  int64\n",
       "Type of Travel                       int32\n",
       "Class                                int64\n",
       "Flight Distance                      int64\n",
       "Inflight wifi service                int64\n",
       "Departure/Arrival time convenient    int64\n",
       "Ease of Online booking               int64\n",
       "Gate location                        int64\n",
       "Food and drink                       int64\n",
       "Online boarding                      int64\n",
       "Seat comfort                         int64\n",
       "Inflight entertainment               int64\n",
       "On-board service                     int64\n",
       "Leg room service                     int64\n",
       "Baggage handling                     int64\n",
       "Checkin service                      int64\n",
       "Inflight service                     int64\n",
       "Cleanliness                          int64\n",
       "satisfaction                         int32\n",
       "dtype: object"
      ]
     },
     "execution_count": 26,
     "metadata": {},
     "output_type": "execute_result"
    }
   ],
   "source": [
    "traindf.dtypes"
   ]
  },
  {
   "cell_type": "markdown",
   "id": "e909197b",
   "metadata": {},
   "source": [
    "## Target Count"
   ]
  },
  {
   "cell_type": "code",
   "execution_count": 27,
   "id": "f5b75523",
   "metadata": {},
   "outputs": [
    {
     "data": {
      "text/plain": [
       "0    58879\n",
       "1    45025\n",
       "Name: satisfaction, dtype: int64"
      ]
     },
     "execution_count": 27,
     "metadata": {},
     "output_type": "execute_result"
    }
   ],
   "source": [
    "count = traindf.satisfaction.value_counts()\n",
    "count"
   ]
  },
  {
   "cell_type": "code",
   "execution_count": 28,
   "id": "acefcdde",
   "metadata": {},
   "outputs": [
    {
     "data": {
      "image/png": "[encoded data removed]",
      "text/plain": [
       "<Figure size 640x480 with 1 Axes>"
      ]
     },
     "metadata": {},
     "output_type": "display_data"
    }
   ],
   "source": [
    "sns.countplot(data=traindf, x='satisfaction')\n",
    "plt.show()"
   ]
  },
  {
   "cell_type": "markdown",
   "id": "9d51fbd2",
   "metadata": {},
   "source": [
    "# Test file"
   ]
  },
  {
   "cell_type": "code",
   "execution_count": 29,
   "id": "0124efd7",
   "metadata": {
    "scrolled": true
   },
   "outputs": [
    {
     "data": {
      "text/html": [
       "<div>\n",
       "<style scoped>\n",
       "    .dataframe tbody tr th:only-of-type {\n",
       "        vertical-align: middle;\n",
       "    }\n",
       "\n",
       "    .dataframe tbody tr th {\n",
       "        vertical-align: top;\n",
       "    }\n",
       "\n",
       "    .dataframe thead th {\n",
       "        text-align: right;\n",
       "    }\n",
       "</style>\n",
       "<table border=\"1\" class=\"dataframe\">\n",
       "  <thead>\n",
       "    <tr style=\"text-align: right;\">\n",
       "      <th></th>\n",
       "      <th>Unnamed: 0</th>\n",
       "      <th>id</th>\n",
       "      <th>Gender</th>\n",
       "      <th>Customer Type</th>\n",
       "      <th>Age</th>\n",
       "      <th>Type of Travel</th>\n",
       "      <th>Class</th>\n",
       "      <th>Flight Distance</th>\n",
       "      <th>Inflight wifi service</th>\n",
       "      <th>Departure/Arrival time convenient</th>\n",
       "      <th>...</th>\n",
       "      <th>Inflight entertainment</th>\n",
       "      <th>On-board service</th>\n",
       "      <th>Leg room service</th>\n",
       "      <th>Baggage handling</th>\n",
       "      <th>Checkin service</th>\n",
       "      <th>Inflight service</th>\n",
       "      <th>Cleanliness</th>\n",
       "      <th>Departure Delay in Minutes</th>\n",
       "      <th>Arrival Delay in Minutes</th>\n",
       "      <th>satisfaction</th>\n",
       "    </tr>\n",
       "  </thead>\n",
       "  <tbody>\n",
       "    <tr>\n",
       "      <th>0</th>\n",
       "      <td>0</td>\n",
       "      <td>19556</td>\n",
       "      <td>Female</td>\n",
       "      <td>Loyal Customer</td>\n",
       "      <td>52</td>\n",
       "      <td>Business travel</td>\n",
       "      <td>Eco</td>\n",
       "      <td>160</td>\n",
       "      <td>5</td>\n",
       "      <td>4</td>\n",
       "      <td>...</td>\n",
       "      <td>5</td>\n",
       "      <td>5</td>\n",
       "      <td>5</td>\n",
       "      <td>5</td>\n",
       "      <td>2</td>\n",
       "      <td>5</td>\n",
       "      <td>5</td>\n",
       "      <td>50</td>\n",
       "      <td>44.0</td>\n",
       "      <td>satisfied</td>\n",
       "    </tr>\n",
       "    <tr>\n",
       "      <th>1</th>\n",
       "      <td>1</td>\n",
       "      <td>90035</td>\n",
       "      <td>Female</td>\n",
       "      <td>Loyal Customer</td>\n",
       "      <td>36</td>\n",
       "      <td>Business travel</td>\n",
       "      <td>Business</td>\n",
       "      <td>2863</td>\n",
       "      <td>1</td>\n",
       "      <td>1</td>\n",
       "      <td>...</td>\n",
       "      <td>4</td>\n",
       "      <td>4</td>\n",
       "      <td>4</td>\n",
       "      <td>4</td>\n",
       "      <td>3</td>\n",
       "      <td>4</td>\n",
       "      <td>5</td>\n",
       "      <td>0</td>\n",
       "      <td>0.0</td>\n",
       "      <td>satisfied</td>\n",
       "    </tr>\n",
       "    <tr>\n",
       "      <th>2</th>\n",
       "      <td>2</td>\n",
       "      <td>12360</td>\n",
       "      <td>Male</td>\n",
       "      <td>disloyal Customer</td>\n",
       "      <td>20</td>\n",
       "      <td>Business travel</td>\n",
       "      <td>Eco</td>\n",
       "      <td>192</td>\n",
       "      <td>2</td>\n",
       "      <td>0</td>\n",
       "      <td>...</td>\n",
       "      <td>2</td>\n",
       "      <td>4</td>\n",
       "      <td>1</td>\n",
       "      <td>3</td>\n",
       "      <td>2</td>\n",
       "      <td>2</td>\n",
       "      <td>2</td>\n",
       "      <td>0</td>\n",
       "      <td>0.0</td>\n",
       "      <td>neutral or dissatisfied</td>\n",
       "    </tr>\n",
       "    <tr>\n",
       "      <th>3</th>\n",
       "      <td>3</td>\n",
       "      <td>77959</td>\n",
       "      <td>Male</td>\n",
       "      <td>Loyal Customer</td>\n",
       "      <td>44</td>\n",
       "      <td>Business travel</td>\n",
       "      <td>Business</td>\n",
       "      <td>3377</td>\n",
       "      <td>0</td>\n",
       "      <td>0</td>\n",
       "      <td>...</td>\n",
       "      <td>1</td>\n",
       "      <td>1</td>\n",
       "      <td>1</td>\n",
       "      <td>1</td>\n",
       "      <td>3</td>\n",
       "      <td>1</td>\n",
       "      <td>4</td>\n",
       "      <td>0</td>\n",
       "      <td>6.0</td>\n",
       "      <td>satisfied</td>\n",
       "    </tr>\n",
       "    <tr>\n",
       "      <th>4</th>\n",
       "      <td>4</td>\n",
       "      <td>36875</td>\n",
       "      <td>Female</td>\n",
       "      <td>Loyal Customer</td>\n",
       "      <td>49</td>\n",
       "      <td>Business travel</td>\n",
       "      <td>Eco</td>\n",
       "      <td>1182</td>\n",
       "      <td>2</td>\n",
       "      <td>3</td>\n",
       "      <td>...</td>\n",
       "      <td>2</td>\n",
       "      <td>2</td>\n",
       "      <td>2</td>\n",
       "      <td>2</td>\n",
       "      <td>4</td>\n",
       "      <td>2</td>\n",
       "      <td>4</td>\n",
       "      <td>0</td>\n",
       "      <td>20.0</td>\n",
       "      <td>satisfied</td>\n",
       "    </tr>\n",
       "  </tbody>\n",
       "</table>\n",
       "<p>5 rows × 25 columns</p>\n",
       "</div>"
      ],
      "text/plain": [
       "   Unnamed: 0     id  Gender      Customer Type  Age   Type of Travel  \\\n",
       "0           0  19556  Female     Loyal Customer   52  Business travel   \n",
       "1           1  90035  Female     Loyal Customer   36  Business travel   \n",
       "2           2  12360    Male  disloyal Customer   20  Business travel   \n",
       "3           3  77959    Male     Loyal Customer   44  Business travel   \n",
       "4           4  36875  Female     Loyal Customer   49  Business travel   \n",
       "\n",
       "      Class  Flight Distance  Inflight wifi service  \\\n",
       "0       Eco              160                      5   \n",
       "1  Business             2863                      1   \n",
       "2       Eco              192                      2   \n",
       "3  Business             3377                      0   \n",
       "4       Eco             1182                      2   \n",
       "\n",
       "   Departure/Arrival time convenient  ...  Inflight entertainment  \\\n",
       "0                                  4  ...                       5   \n",
       "1                                  1  ...                       4   \n",
       "2                                  0  ...                       2   \n",
       "3                                  0  ...                       1   \n",
       "4                                  3  ...                       2   \n",
       "\n",
       "   On-board service  Leg room service  Baggage handling  Checkin service  \\\n",
       "0                 5                 5                 5                2   \n",
       "1                 4                 4                 4                3   \n",
       "2                 4                 1                 3                2   \n",
       "3                 1                 1                 1                3   \n",
       "4                 2                 2                 2                4   \n",
       "\n",
       "   Inflight service  Cleanliness  Departure Delay in Minutes  \\\n",
       "0                 5            5                          50   \n",
       "1                 4            5                           0   \n",
       "2                 2            2                           0   \n",
       "3                 1            4                           0   \n",
       "4                 2            4                           0   \n",
       "\n",
       "   Arrival Delay in Minutes             satisfaction  \n",
       "0                      44.0                satisfied  \n",
       "1                       0.0                satisfied  \n",
       "2                       0.0  neutral or dissatisfied  \n",
       "3                       6.0                satisfied  \n",
       "4                      20.0                satisfied  \n",
       "\n",
       "[5 rows x 25 columns]"
      ]
     },
     "execution_count": 29,
     "metadata": {},
     "output_type": "execute_result"
    }
   ],
   "source": [
    "testdf = pd.read_csv(\"./DataSets/Airline/test.csv\")\n",
    "testdf.head()"
   ]
  },
  {
   "cell_type": "code",
   "execution_count": 30,
   "id": "d5f1e6ab",
   "metadata": {
    "scrolled": true
   },
   "outputs": [
    {
     "data": {
      "text/plain": [
       "(25976, 25)"
      ]
     },
     "execution_count": 30,
     "metadata": {},
     "output_type": "execute_result"
    }
   ],
   "source": [
    "testdf.shape"
   ]
  },
  {
   "cell_type": "markdown",
   "id": "27ae1bb0",
   "metadata": {},
   "source": [
    "# Cleaning of Test file"
   ]
  },
  {
   "cell_type": "markdown",
   "id": "52e2fe8a",
   "metadata": {},
   "source": [
    "## Dropping Variables"
   ]
  },
  {
   "cell_type": "markdown",
   "id": "f7d81ec1",
   "metadata": {},
   "source": [
    "#### Unnamed Column"
   ]
  },
  {
   "cell_type": "code",
   "execution_count": 31,
   "id": "ee919cff",
   "metadata": {},
   "outputs": [],
   "source": [
    "testdf = testdf.drop('Unnamed: 0',axis = 1)"
   ]
  },
  {
   "cell_type": "markdown",
   "id": "e3800ddd",
   "metadata": {},
   "source": [
    "#### Departure Delay in Minutes Column"
   ]
  },
  {
   "cell_type": "code",
   "execution_count": 32,
   "id": "f3a6edd5",
   "metadata": {},
   "outputs": [],
   "source": [
    "testdf = testdf.drop('Departure Delay in Minutes',axis = 1)"
   ]
  },
  {
   "cell_type": "markdown",
   "id": "7f84537e",
   "metadata": {},
   "source": [
    "#### Arrival Delay in Minutes Column"
   ]
  },
  {
   "cell_type": "code",
   "execution_count": 33,
   "id": "60a00900",
   "metadata": {},
   "outputs": [],
   "source": [
    "testdf = testdf.drop('Arrival Delay in Minutes',axis = 1)"
   ]
  },
  {
   "cell_type": "markdown",
   "id": "aa7d73d1",
   "metadata": {},
   "source": [
    "#### id column"
   ]
  },
  {
   "cell_type": "code",
   "execution_count": 34,
   "id": "bccdc8ed",
   "metadata": {},
   "outputs": [],
   "source": [
    "testdf = testdf.drop('id',axis = 1)"
   ]
  },
  {
   "cell_type": "markdown",
   "id": "19fec095",
   "metadata": {},
   "source": [
    "## Null value treatment"
   ]
  },
  {
   "cell_type": "code",
   "execution_count": 35,
   "id": "25fc1dc6",
   "metadata": {},
   "outputs": [
    {
     "data": {
      "text/plain": [
       "Gender                               0\n",
       "Customer Type                        0\n",
       "Age                                  0\n",
       "Type of Travel                       0\n",
       "Class                                0\n",
       "Flight Distance                      0\n",
       "Inflight wifi service                0\n",
       "Departure/Arrival time convenient    0\n",
       "Ease of Online booking               0\n",
       "Gate location                        0\n",
       "Food and drink                       0\n",
       "Online boarding                      0\n",
       "Seat comfort                         0\n",
       "Inflight entertainment               0\n",
       "On-board service                     0\n",
       "Leg room service                     0\n",
       "Baggage handling                     0\n",
       "Checkin service                      0\n",
       "Inflight service                     0\n",
       "Cleanliness                          0\n",
       "satisfaction                         0\n",
       "dtype: int64"
      ]
     },
     "execution_count": 35,
     "metadata": {},
     "output_type": "execute_result"
    }
   ],
   "source": [
    "testdf.isnull().sum()"
   ]
  },
  {
   "cell_type": "markdown",
   "id": "ccd7edfb",
   "metadata": {},
   "source": [
    "## Datatype Conversion"
   ]
  },
  {
   "cell_type": "code",
   "execution_count": 36,
   "id": "20303dcc",
   "metadata": {},
   "outputs": [
    {
     "data": {
      "text/plain": [
       "Gender                               object\n",
       "Customer Type                        object\n",
       "Age                                   int64\n",
       "Type of Travel                       object\n",
       "Class                                object\n",
       "Flight Distance                       int64\n",
       "Inflight wifi service                 int64\n",
       "Departure/Arrival time convenient     int64\n",
       "Ease of Online booking                int64\n",
       "Gate location                         int64\n",
       "Food and drink                        int64\n",
       "Online boarding                       int64\n",
       "Seat comfort                          int64\n",
       "Inflight entertainment                int64\n",
       "On-board service                      int64\n",
       "Leg room service                      int64\n",
       "Baggage handling                      int64\n",
       "Checkin service                       int64\n",
       "Inflight service                      int64\n",
       "Cleanliness                           int64\n",
       "satisfaction                         object\n",
       "dtype: object"
      ]
     },
     "execution_count": 36,
     "metadata": {},
     "output_type": "execute_result"
    }
   ],
   "source": [
    "testdf.dtypes"
   ]
  },
  {
   "cell_type": "markdown",
   "id": "40cb50f2",
   "metadata": {},
   "source": [
    "#### Gender Column"
   ]
  },
  {
   "cell_type": "code",
   "execution_count": 37,
   "id": "0298dcd9",
   "metadata": {},
   "outputs": [
    {
     "data": {
      "text/plain": [
       "Female    13172\n",
       "Male      12804\n",
       "Name: Gender, dtype: int64"
      ]
     },
     "execution_count": 37,
     "metadata": {},
     "output_type": "execute_result"
    }
   ],
   "source": [
    "testdf[\"Gender\"].value_counts()"
   ]
  },
  {
   "cell_type": "code",
   "execution_count": 38,
   "id": "0be4c05b",
   "metadata": {},
   "outputs": [],
   "source": [
    "testdf[\"Gender\"] = le.fit_transform(testdf[\"Gender\"])"
   ]
  },
  {
   "cell_type": "code",
   "execution_count": 39,
   "id": "d9776697",
   "metadata": {},
   "outputs": [
    {
     "data": {
      "text/plain": [
       "0    13172\n",
       "1    12804\n",
       "Name: Gender, dtype: int64"
      ]
     },
     "execution_count": 39,
     "metadata": {},
     "output_type": "execute_result"
    }
   ],
   "source": [
    "testdf[\"Gender\"].value_counts()"
   ]
  },
  {
   "cell_type": "markdown",
   "id": "54768b9d",
   "metadata": {},
   "source": [
    "#### Customer Type Column"
   ]
  },
  {
   "cell_type": "code",
   "execution_count": 40,
   "id": "44ff0009",
   "metadata": {},
   "outputs": [
    {
     "data": {
      "text/plain": [
       "Loyal Customer       21177\n",
       "disloyal Customer     4799\n",
       "Name: Customer Type, dtype: int64"
      ]
     },
     "execution_count": 40,
     "metadata": {},
     "output_type": "execute_result"
    }
   ],
   "source": [
    "testdf[\"Customer Type\"].value_counts()"
   ]
  },
  {
   "cell_type": "code",
   "execution_count": 41,
   "id": "f2aa4d30",
   "metadata": {},
   "outputs": [],
   "source": [
    "testdf[\"Customer Type\"] = le.fit_transform(testdf[\"Customer Type\"])"
   ]
  },
  {
   "cell_type": "code",
   "execution_count": 42,
   "id": "70db1b08",
   "metadata": {},
   "outputs": [
    {
     "data": {
      "text/plain": [
       "0    21177\n",
       "1     4799\n",
       "Name: Customer Type, dtype: int64"
      ]
     },
     "execution_count": 42,
     "metadata": {},
     "output_type": "execute_result"
    }
   ],
   "source": [
    "testdf[\"Customer Type\"].value_counts()"
   ]
  },
  {
   "cell_type": "markdown",
   "id": "93e19c38",
   "metadata": {},
   "source": [
    "#### Type of Travel Column"
   ]
  },
  {
   "cell_type": "code",
   "execution_count": 43,
   "id": "9f35ccb2",
   "metadata": {},
   "outputs": [
    {
     "data": {
      "text/plain": [
       "Business travel    18038\n",
       "Personal Travel     7938\n",
       "Name: Type of Travel, dtype: int64"
      ]
     },
     "execution_count": 43,
     "metadata": {},
     "output_type": "execute_result"
    }
   ],
   "source": [
    "testdf[\"Type of Travel\"].value_counts()"
   ]
  },
  {
   "cell_type": "code",
   "execution_count": 44,
   "id": "8b9c9bf5",
   "metadata": {},
   "outputs": [],
   "source": [
    "testdf[\"Type of Travel\"] = le.fit_transform(testdf[\"Type of Travel\"])"
   ]
  },
  {
   "cell_type": "code",
   "execution_count": 45,
   "id": "650368fd",
   "metadata": {},
   "outputs": [
    {
     "data": {
      "text/plain": [
       "0    18038\n",
       "1     7938\n",
       "Name: Type of Travel, dtype: int64"
      ]
     },
     "execution_count": 45,
     "metadata": {},
     "output_type": "execute_result"
    }
   ],
   "source": [
    "testdf[\"Type of Travel\"].value_counts()"
   ]
  },
  {
   "cell_type": "markdown",
   "id": "782d9255",
   "metadata": {},
   "source": [
    "#### Class Column"
   ]
  },
  {
   "cell_type": "code",
   "execution_count": 46,
   "id": "e3c24108",
   "metadata": {},
   "outputs": [
    {
     "data": {
      "text/plain": [
       "Business    12495\n",
       "Eco         11564\n",
       "Eco Plus     1917\n",
       "Name: Class, dtype: int64"
      ]
     },
     "execution_count": 46,
     "metadata": {},
     "output_type": "execute_result"
    }
   ],
   "source": [
    "testdf[\"Class\"].value_counts()"
   ]
  },
  {
   "cell_type": "code",
   "execution_count": 47,
   "id": "64c3d753",
   "metadata": {},
   "outputs": [],
   "source": [
    "testdf[\"Class\"] = le.fit_transform(testdf[\"Gender\"])"
   ]
  },
  {
   "cell_type": "code",
   "execution_count": 48,
   "id": "ea8b877e",
   "metadata": {},
   "outputs": [
    {
     "data": {
      "text/plain": [
       "0    13172\n",
       "1    12804\n",
       "Name: Class, dtype: int64"
      ]
     },
     "execution_count": 48,
     "metadata": {},
     "output_type": "execute_result"
    }
   ],
   "source": [
    "testdf[\"Class\"].value_counts()"
   ]
  },
  {
   "cell_type": "markdown",
   "id": "f6fc25de",
   "metadata": {},
   "source": [
    "#### Satisfaction Column"
   ]
  },
  {
   "cell_type": "code",
   "execution_count": 49,
   "id": "53f6ce77",
   "metadata": {},
   "outputs": [
    {
     "data": {
      "text/plain": [
       "neutral or dissatisfied    14573\n",
       "satisfied                  11403\n",
       "Name: satisfaction, dtype: int64"
      ]
     },
     "execution_count": 49,
     "metadata": {},
     "output_type": "execute_result"
    }
   ],
   "source": [
    "testdf[\"satisfaction\"].value_counts()"
   ]
  },
  {
   "cell_type": "code",
   "execution_count": 50,
   "id": "4b7ff729",
   "metadata": {},
   "outputs": [],
   "source": [
    "testdf[\"satisfaction\"] = le.fit_transform(testdf[\"satisfaction\"])"
   ]
  },
  {
   "cell_type": "code",
   "execution_count": 51,
   "id": "b41532db",
   "metadata": {},
   "outputs": [
    {
     "data": {
      "text/plain": [
       "0    14573\n",
       "1    11403\n",
       "Name: satisfaction, dtype: int64"
      ]
     },
     "execution_count": 51,
     "metadata": {},
     "output_type": "execute_result"
    }
   ],
   "source": [
    "testdf[\"satisfaction\"].value_counts()"
   ]
  },
  {
   "cell_type": "code",
   "execution_count": 52,
   "id": "65cc8639",
   "metadata": {},
   "outputs": [
    {
     "data": {
      "text/plain": [
       "Gender                               int32\n",
       "Customer Type                        int32\n",
       "Age                                  int64\n",
       "Type of Travel                       int32\n",
       "Class                                int64\n",
       "Flight Distance                      int64\n",
       "Inflight wifi service                int64\n",
       "Departure/Arrival time convenient    int64\n",
       "Ease of Online booking               int64\n",
       "Gate location                        int64\n",
       "Food and drink                       int64\n",
       "Online boarding                      int64\n",
       "Seat comfort                         int64\n",
       "Inflight entertainment               int64\n",
       "On-board service                     int64\n",
       "Leg room service                     int64\n",
       "Baggage handling                     int64\n",
       "Checkin service                      int64\n",
       "Inflight service                     int64\n",
       "Cleanliness                          int64\n",
       "satisfaction                         int32\n",
       "dtype: object"
      ]
     },
     "execution_count": 52,
     "metadata": {},
     "output_type": "execute_result"
    }
   ],
   "source": [
    "testdf.dtypes"
   ]
  },
  {
   "cell_type": "markdown",
   "id": "bc4d4caf",
   "metadata": {},
   "source": [
    "# Base Models"
   ]
  },
  {
   "cell_type": "code",
   "execution_count": 53,
   "id": "84760552",
   "metadata": {},
   "outputs": [],
   "source": [
    "x_train=traindf.drop(['satisfaction'],axis=1, inplace=False)\n",
    "x_test=testdf.drop(['satisfaction'],axis=1, inplace=False)\n",
    "y_train=traindf['satisfaction']\n",
    "y_test=testdf['satisfaction']"
   ]
  },
  {
   "cell_type": "code",
   "execution_count": 54,
   "id": "ba343230",
   "metadata": {},
   "outputs": [
    {
     "data": {
      "text/plain": [
       "((103904, 20), (25976, 20), (103904,), (25976,))"
      ]
     },
     "execution_count": 54,
     "metadata": {},
     "output_type": "execute_result"
    }
   ],
   "source": [
    "x_train.shape,x_test.shape,y_train.shape,y_test.shape"
   ]
  },
  {
   "cell_type": "code",
   "execution_count": 55,
   "id": "83f6aaa4",
   "metadata": {},
   "outputs": [],
   "source": [
    "from sklearn.metrics import classification_report\n",
    "from sklearn.metrics import confusion_matrix\n",
    "from sklearn.metrics import confusion_matrix, precision_score, recall_score, f1_score, accuracy_score, roc_auc_score"
   ]
  },
  {
   "cell_type": "markdown",
   "id": "062f9f2a",
   "metadata": {},
   "source": [
    "## Logistic Regression"
   ]
  },
  {
   "cell_type": "code",
   "execution_count": 56,
   "id": "78064fd9",
   "metadata": {},
   "outputs": [],
   "source": [
    "from sklearn.linear_model import LogisticRegression\n",
    "lg=LogisticRegression()"
   ]
  },
  {
   "cell_type": "code",
   "execution_count": 57,
   "id": "f196b891",
   "metadata": {},
   "outputs": [
    {
     "data": {
      "text/plain": [
       "85.20942408376963"
      ]
     },
     "execution_count": 57,
     "metadata": {},
     "output_type": "execute_result"
    }
   ],
   "source": [
    "lg.fit(x_train, y_train)\n",
    "lg_p1=lg.predict(x_test)\n",
    "lg_m1 = confusion_matrix(lg_p1,y_test)\n",
    "lg_acc1 = lg_m1.diagonal().sum()/lg_m1.sum()*100\n",
    "lg_acc1"
   ]
  },
  {
   "cell_type": "code",
   "execution_count": 58,
   "id": "4ad9bc60",
   "metadata": {},
   "outputs": [
    {
     "name": "stdout",
     "output_type": "stream",
     "text": [
      "              precision    recall  f1-score   support\n",
      "\n",
      "           0       0.87      0.87      0.87     14529\n",
      "           1       0.83      0.83      0.83     11447\n",
      "\n",
      "    accuracy                           0.85     25976\n",
      "   macro avg       0.85      0.85      0.85     25976\n",
      "weighted avg       0.85      0.85      0.85     25976\n",
      "\n"
     ]
    }
   ],
   "source": [
    "print(classification_report(lg_p1,y_test))"
   ]
  },
  {
   "cell_type": "code",
   "execution_count": 59,
   "id": "213cf5b3",
   "metadata": {},
   "outputs": [],
   "source": [
    "lg_list=[accuracy_score(y_test, lg_p1),precision_score(y_test, lg_p1),recall_score(y_test, lg_p1), f1_score(y_test, lg_p1)]"
   ]
  },
  {
   "cell_type": "markdown",
   "id": "7ba9f422",
   "metadata": {},
   "source": [
    "## Decision Tree"
   ]
  },
  {
   "cell_type": "code",
   "execution_count": 60,
   "id": "b8624fab",
   "metadata": {},
   "outputs": [],
   "source": [
    "from sklearn.tree import DecisionTreeClassifier\n",
    "dt = DecisionTreeClassifier()"
   ]
  },
  {
   "cell_type": "code",
   "execution_count": 61,
   "id": "9deadc0e",
   "metadata": {},
   "outputs": [
    {
     "data": {
      "text/plain": [
       "94.39482599322452"
      ]
     },
     "execution_count": 61,
     "metadata": {},
     "output_type": "execute_result"
    }
   ],
   "source": [
    "dt.fit(x_train,y_train)\n",
    "dt_p1 = dt.predict(x_test)\n",
    "dt_m1 = confusion_matrix(dt_p1,y_test)\n",
    "dt_acc1 = dt_m1.diagonal().sum()/dt_m1.sum()*100\n",
    "dt_acc1"
   ]
  },
  {
   "cell_type": "code",
   "execution_count": 62,
   "id": "9e046c1d",
   "metadata": {},
   "outputs": [
    {
     "name": "stdout",
     "output_type": "stream",
     "text": [
      "              precision    recall  f1-score   support\n",
      "\n",
      "           0       0.95      0.95      0.95     14471\n",
      "           1       0.94      0.93      0.94     11505\n",
      "\n",
      "    accuracy                           0.94     25976\n",
      "   macro avg       0.94      0.94      0.94     25976\n",
      "weighted avg       0.94      0.94      0.94     25976\n",
      "\n"
     ]
    }
   ],
   "source": [
    "print(classification_report(dt_p1,y_test))"
   ]
  },
  {
   "cell_type": "code",
   "execution_count": 63,
   "id": "dad46c9d",
   "metadata": {},
   "outputs": [],
   "source": [
    "dt_list=[accuracy_score(y_test, dt_p1),precision_score(y_test, dt_p1),recall_score(y_test, dt_p1), f1_score(y_test, dt_p1)]"
   ]
  },
  {
   "cell_type": "markdown",
   "id": "99d80ed1",
   "metadata": {},
   "source": [
    "## Random Forest"
   ]
  },
  {
   "cell_type": "code",
   "execution_count": 64,
   "id": "b26d94d8",
   "metadata": {},
   "outputs": [],
   "source": [
    "from sklearn.ensemble import RandomForestClassifier\n",
    "rf = RandomForestClassifier()"
   ]
  },
  {
   "cell_type": "code",
   "execution_count": 65,
   "id": "1bdd6a40",
   "metadata": {},
   "outputs": [
    {
     "data": {
      "text/plain": [
       "96.23113643363105"
      ]
     },
     "execution_count": 65,
     "metadata": {},
     "output_type": "execute_result"
    }
   ],
   "source": [
    "rf.fit(x_train,y_train)\n",
    "rf_p1 = rf.predict(x_test)\n",
    "rf_m1 = confusion_matrix(rf_p1,y_test)\n",
    "rf_acc1 = rf_m1.diagonal().sum()/rf_m1.sum()*100  \n",
    "rf_acc1"
   ]
  },
  {
   "cell_type": "code",
   "execution_count": 66,
   "id": "0a7e8d36",
   "metadata": {},
   "outputs": [
    {
     "name": "stdout",
     "output_type": "stream",
     "text": [
      "              precision    recall  f1-score   support\n",
      "\n",
      "           0       0.98      0.96      0.97     14924\n",
      "           1       0.94      0.97      0.96     11052\n",
      "\n",
      "    accuracy                           0.96     25976\n",
      "   macro avg       0.96      0.96      0.96     25976\n",
      "weighted avg       0.96      0.96      0.96     25976\n",
      "\n"
     ]
    }
   ],
   "source": [
    "print(classification_report(rf_p1,y_test))"
   ]
  },
  {
   "cell_type": "code",
   "execution_count": 67,
   "id": "27afa88b",
   "metadata": {},
   "outputs": [],
   "source": [
    "rf_list=[accuracy_score(y_test, rf_p1),precision_score(y_test, rf_p1),recall_score(y_test, rf_p1), f1_score(y_test, rf_p1)]"
   ]
  },
  {
   "cell_type": "markdown",
   "id": "5b0e947f",
   "metadata": {},
   "source": [
    "## Naive Bayes"
   ]
  },
  {
   "cell_type": "code",
   "execution_count": 68,
   "id": "e1d05de1",
   "metadata": {},
   "outputs": [],
   "source": [
    "from sklearn.naive_bayes import MultinomialNB\n",
    "nb = MultinomialNB()"
   ]
  },
  {
   "cell_type": "code",
   "execution_count": 69,
   "id": "f9ac45ba",
   "metadata": {},
   "outputs": [
    {
     "data": {
      "text/plain": [
       "63.17754850631352"
      ]
     },
     "execution_count": 69,
     "metadata": {},
     "output_type": "execute_result"
    }
   ],
   "source": [
    "nb.fit(x_train,y_train)\n",
    "nb_p1 = nb.predict(x_test)\n",
    "nb_m1 = confusion_matrix(nb_p1,y_test)\n",
    "nb_acc1 = nb_m1.diagonal().sum()/nb_m1.sum()*100\n",
    "nb_acc1"
   ]
  },
  {
   "cell_type": "code",
   "execution_count": 70,
   "id": "9576d561",
   "metadata": {},
   "outputs": [
    {
     "name": "stdout",
     "output_type": "stream",
     "text": [
      "              precision    recall  f1-score   support\n",
      "\n",
      "           0       0.72      0.66      0.69     16004\n",
      "           1       0.52      0.59      0.55      9972\n",
      "\n",
      "    accuracy                           0.63     25976\n",
      "   macro avg       0.62      0.62      0.62     25976\n",
      "weighted avg       0.64      0.63      0.64     25976\n",
      "\n"
     ]
    }
   ],
   "source": [
    "print(classification_report(nb_p1,y_test))"
   ]
  },
  {
   "cell_type": "code",
   "execution_count": 71,
   "id": "32cf4338",
   "metadata": {},
   "outputs": [],
   "source": [
    "nb_list=[accuracy_score(y_test, nb_p1),precision_score(y_test, nb_p1),recall_score(y_test, nb_p1), f1_score(y_test, nb_p1)]"
   ]
  },
  {
   "cell_type": "markdown",
   "id": "ea6f7ebb",
   "metadata": {},
   "source": [
    "## XGBoost"
   ]
  },
  {
   "cell_type": "code",
   "execution_count": 72,
   "id": "b00760f8",
   "metadata": {},
   "outputs": [],
   "source": [
    "from xgboost import XGBClassifier\n",
    "xgb = XGBClassifier()"
   ]
  },
  {
   "cell_type": "code",
   "execution_count": 73,
   "id": "371dfc97",
   "metadata": {},
   "outputs": [
    {
     "data": {
      "text/plain": [
       "96.2580843855867"
      ]
     },
     "execution_count": 73,
     "metadata": {},
     "output_type": "execute_result"
    }
   ],
   "source": [
    "xgb.fit(x_train,y_train)\n",
    "xgb_p1 = xgb.predict(x_test)\n",
    "xgb_m1 = confusion_matrix(xgb_p1,y_test)\n",
    "xgb_ac1 = xgb_m1.diagonal().sum()/xgb_m1.sum()*100\n",
    "xgb_ac1"
   ]
  },
  {
   "cell_type": "code",
   "execution_count": 74,
   "id": "2e7a2aed",
   "metadata": {},
   "outputs": [
    {
     "name": "stdout",
     "output_type": "stream",
     "text": [
      "              precision    recall  f1-score   support\n",
      "\n",
      "           0       0.98      0.96      0.97     14897\n",
      "           1       0.94      0.97      0.96     11079\n",
      "\n",
      "    accuracy                           0.96     25976\n",
      "   macro avg       0.96      0.96      0.96     25976\n",
      "weighted avg       0.96      0.96      0.96     25976\n",
      "\n"
     ]
    }
   ],
   "source": [
    "print(classification_report(xgb_p1,y_test))"
   ]
  },
  {
   "cell_type": "code",
   "execution_count": 75,
   "id": "1188b4f6",
   "metadata": {},
   "outputs": [],
   "source": [
    "xgb_list=[accuracy_score(y_test, xgb_p1),precision_score(y_test, xgb_p1),recall_score(y_test, xgb_p1), f1_score(y_test, xgb_p1)]"
   ]
  },
  {
   "cell_type": "markdown",
   "id": "35186f60",
   "metadata": {},
   "source": [
    "## Basemodels DF"
   ]
  },
  {
   "cell_type": "code",
   "execution_count": 76,
   "id": "242d1e63",
   "metadata": {},
   "outputs": [],
   "source": [
    "list1 = {\n",
    "    \"LogisticRegression\": lg_list,\n",
    "    \"DecisionTree\": dt_list,\n",
    "    \"RandomForest\": rf_list,\n",
    "    \"NaiveBayes\": nb_list,\n",
    "    \"XGBoost\": xgb_list\n",
    "}"
   ]
  },
  {
   "cell_type": "code",
   "execution_count": 77,
   "id": "3e558c7c",
   "metadata": {},
   "outputs": [
    {
     "data": {
      "text/html": [
       "<div>\n",
       "<style scoped>\n",
       "    .dataframe tbody tr th:only-of-type {\n",
       "        vertical-align: middle;\n",
       "    }\n",
       "\n",
       "    .dataframe tbody tr th {\n",
       "        vertical-align: top;\n",
       "    }\n",
       "\n",
       "    .dataframe thead th {\n",
       "        text-align: right;\n",
       "    }\n",
       "</style>\n",
       "<table border=\"1\" class=\"dataframe\">\n",
       "  <thead>\n",
       "    <tr style=\"text-align: right;\">\n",
       "      <th></th>\n",
       "      <th>LogisticRegression</th>\n",
       "      <th>DecisionTree</th>\n",
       "      <th>RandomForest</th>\n",
       "      <th>NaiveBayes</th>\n",
       "      <th>XGBoost</th>\n",
       "    </tr>\n",
       "  </thead>\n",
       "  <tbody>\n",
       "    <tr>\n",
       "      <th>Accuracy</th>\n",
       "      <td>0.852094</td>\n",
       "      <td>0.943948</td>\n",
       "      <td>0.962311</td>\n",
       "      <td>0.631775</td>\n",
       "      <td>0.962581</td>\n",
       "    </tr>\n",
       "    <tr>\n",
       "      <th>Precision</th>\n",
       "      <td>0.830261</td>\n",
       "      <td>0.932290</td>\n",
       "      <td>0.971589</td>\n",
       "      <td>0.592158</td>\n",
       "      <td>0.970755</td>\n",
       "    </tr>\n",
       "    <tr>\n",
       "      <th>Recall</th>\n",
       "      <td>0.833465</td>\n",
       "      <td>0.940630</td>\n",
       "      <td>0.941682</td>\n",
       "      <td>0.517846</td>\n",
       "      <td>0.943173</td>\n",
       "    </tr>\n",
       "    <tr>\n",
       "      <th>F1-Score</th>\n",
       "      <td>0.831860</td>\n",
       "      <td>0.936441</td>\n",
       "      <td>0.956402</td>\n",
       "      <td>0.552515</td>\n",
       "      <td>0.956765</td>\n",
       "    </tr>\n",
       "  </tbody>\n",
       "</table>\n",
       "</div>"
      ],
      "text/plain": [
       "           LogisticRegression  DecisionTree  RandomForest  NaiveBayes  \\\n",
       "Accuracy             0.852094      0.943948      0.962311    0.631775   \n",
       "Precision            0.830261      0.932290      0.971589    0.592158   \n",
       "Recall               0.833465      0.940630      0.941682    0.517846   \n",
       "F1-Score             0.831860      0.936441      0.956402    0.552515   \n",
       "\n",
       "            XGBoost  \n",
       "Accuracy   0.962581  \n",
       "Precision  0.970755  \n",
       "Recall     0.943173  \n",
       "F1-Score   0.956765  "
      ]
     },
     "execution_count": 77,
     "metadata": {},
     "output_type": "execute_result"
    }
   ],
   "source": [
    "row_names = [\"Accuracy\", \"Precision\", \"Recall\", \"F1-Score\"]\n",
    "baseModels = pd.DataFrame(list1,index = row_names)\n",
    "baseModels"
   ]
  },
  {
   "cell_type": "markdown",
   "id": "58302ebe",
   "metadata": {},
   "source": [
    "# Exploratory Data Analysis (EDA) "
   ]
  },
  {
   "cell_type": "markdown",
   "id": "8e5cfef7",
   "metadata": {},
   "source": [
    "## Outliers Treatment"
   ]
  },
  {
   "cell_type": "code",
   "execution_count": 78,
   "id": "c90ca123",
   "metadata": {},
   "outputs": [
    {
     "data": {
      "image/png": "[encoded data removed]",
      "text/plain": [
       "<Figure size 2000x1000 with 1 Axes>"
      ]
     },
     "metadata": {},
     "output_type": "display_data"
    }
   ],
   "source": [
    "numCol = [\"Age\",\"Flight Distance\"]\n",
    "numcol = traindf[numCol]\n",
    "numcol.boxplot(figsize=(20,10))\n",
    "plt.show()"
   ]
  },
  {
   "cell_type": "markdown",
   "id": "71033ac7",
   "metadata": {},
   "source": [
    "#### Flight Distance Column"
   ]
  },
  {
   "cell_type": "code",
   "execution_count": 79,
   "id": "d5d57eaf",
   "metadata": {},
   "outputs": [
    {
     "data": {
      "image/png": "[encoded data removed]",
      "text/plain": [
       "<Figure size 640x480 with 1 Axes>"
      ]
     },
     "metadata": {},
     "output_type": "display_data"
    }
   ],
   "source": [
    "traindf.boxplot(column=\"Flight Distance\")\n",
    "plt.show()"
   ]
  },
  {
   "cell_type": "code",
   "execution_count": 80,
   "id": "e9bb7a73",
   "metadata": {},
   "outputs": [
    {
     "data": {
      "image/png": "[encoded data removed]",
      "text/plain": [
       "<Figure size 640x480 with 1 Axes>"
      ]
     },
     "metadata": {},
     "output_type": "display_data"
    }
   ],
   "source": [
    "sns.distplot(traindf[\"Flight Distance\"])\n",
    "plt.show()"
   ]
  },
  {
   "cell_type": "code",
   "execution_count": 81,
   "id": "4acd081a",
   "metadata": {},
   "outputs": [
    {
     "data": {
      "image/png": "[encoded data removed]",
      "text/plain": [
       "<Figure size 640x480 with 1 Axes>"
      ]
     },
     "metadata": {},
     "output_type": "display_data"
    }
   ],
   "source": [
    "traindf[\"Flight Distance\"].hist()\n",
    "plt.show()"
   ]
  },
  {
   "cell_type": "code",
   "execution_count": 82,
   "id": "4cf2f578",
   "metadata": {},
   "outputs": [
    {
     "data": {
      "text/plain": [
       "1329.0"
      ]
     },
     "execution_count": 82,
     "metadata": {},
     "output_type": "execute_result"
    }
   ],
   "source": [
    "IQR_F = traindf[\"Flight Distance\"].quantile(0.75) - traindf[\"Flight Distance\"].quantile(0.25)\n",
    "IQR_F"
   ]
  },
  {
   "cell_type": "code",
   "execution_count": 83,
   "id": "a6e19bdf",
   "metadata": {},
   "outputs": [
    {
     "name": "stdout",
     "output_type": "stream",
     "text": [
      "5730.0\n"
     ]
    }
   ],
   "source": [
    "u_b=traindf[\"Flight Distance\"].quantile(0.75) + (IQR_F*3)\n",
    "print(u_b)"
   ]
  },
  {
   "cell_type": "code",
   "execution_count": 84,
   "id": "fcaf9648",
   "metadata": {},
   "outputs": [],
   "source": [
    "traindf.loc[traindf[\"Flight Distance\"]>5730.0,[\"Flight Distance\"]]=5730.0"
   ]
  },
  {
   "cell_type": "code",
   "execution_count": 85,
   "id": "5c679d7d",
   "metadata": {},
   "outputs": [
    {
     "data": {
      "image/png": "[encoded data removed]",
      "text/plain": [
       "<Figure size 640x480 with 1 Axes>"
      ]
     },
     "metadata": {},
     "output_type": "display_data"
    }
   ],
   "source": [
    "traindf[\"Flight Distance\"].hist()\n",
    "plt.show()"
   ]
  },
  {
   "cell_type": "code",
   "execution_count": 86,
   "id": "82b68f19",
   "metadata": {},
   "outputs": [
    {
     "data": {
      "image/png": "[encoded data removed]",
      "text/plain": [
       "<Figure size 640x480 with 1 Axes>"
      ]
     },
     "metadata": {},
     "output_type": "display_data"
    }
   ],
   "source": [
    "sns.distplot(traindf[\"Flight Distance\"])\n",
    "plt.show()"
   ]
  },
  {
   "cell_type": "markdown",
   "id": "a093a0c3",
   "metadata": {},
   "source": [
    "## Skewness Treatment"
   ]
  },
  {
   "cell_type": "code",
   "execution_count": 87,
   "id": "37f640f7",
   "metadata": {},
   "outputs": [
    {
     "data": {
      "text/plain": [
       "Gender                               0.029839\n",
       "Customer Type                        1.642465\n",
       "Age                                 -0.004516\n",
       "Type of Travel                       0.819761\n",
       "Class                                0.029839\n",
       "Flight Distance                      1.109466\n",
       "Inflight wifi service                0.040408\n",
       "Departure/Arrival time convenient   -0.334399\n",
       "Ease of Online booking              -0.018294\n",
       "Gate location                       -0.058889\n",
       "Food and drink                      -0.151279\n",
       "Online boarding                     -0.453852\n",
       "Seat comfort                        -0.482775\n",
       "Inflight entertainment              -0.365131\n",
       "On-board service                    -0.420031\n",
       "Leg room service                    -0.350231\n",
       "Baggage handling                    -0.677040\n",
       "Checkin service                     -0.364982\n",
       "Inflight service                    -0.690314\n",
       "Cleanliness                         -0.300074\n",
       "satisfaction                         0.269076\n",
       "dtype: float64"
      ]
     },
     "execution_count": 87,
     "metadata": {},
     "output_type": "execute_result"
    }
   ],
   "source": [
    "traindf.skew()"
   ]
  },
  {
   "cell_type": "code",
   "execution_count": 88,
   "id": "b4093726",
   "metadata": {},
   "outputs": [],
   "source": [
    "traindf[\"Flight Distance\"] = np.cbrt(traindf[\"Flight Distance\"])"
   ]
  },
  {
   "cell_type": "code",
   "execution_count": 89,
   "id": "7816ad2a",
   "metadata": {},
   "outputs": [
    {
     "data": {
      "text/plain": [
       "Gender                               0.029839\n",
       "Customer Type                        1.642465\n",
       "Age                                 -0.004516\n",
       "Type of Travel                       0.819761\n",
       "Class                                0.029839\n",
       "Flight Distance                      0.311065\n",
       "Inflight wifi service                0.040408\n",
       "Departure/Arrival time convenient   -0.334399\n",
       "Ease of Online booking              -0.018294\n",
       "Gate location                       -0.058889\n",
       "Food and drink                      -0.151279\n",
       "Online boarding                     -0.453852\n",
       "Seat comfort                        -0.482775\n",
       "Inflight entertainment              -0.365131\n",
       "On-board service                    -0.420031\n",
       "Leg room service                    -0.350231\n",
       "Baggage handling                    -0.677040\n",
       "Checkin service                     -0.364982\n",
       "Inflight service                    -0.690314\n",
       "Cleanliness                         -0.300074\n",
       "satisfaction                         0.269076\n",
       "dtype: float64"
      ]
     },
     "execution_count": 89,
     "metadata": {},
     "output_type": "execute_result"
    }
   ],
   "source": [
    "traindf.skew()"
   ]
  },
  {
   "cell_type": "markdown",
   "id": "7175f262",
   "metadata": {},
   "source": [
    "## Correlation"
   ]
  },
  {
   "cell_type": "code",
   "execution_count": 90,
   "id": "80be3b58",
   "metadata": {},
   "outputs": [
    {
     "data": {
      "text/html": [
       "<div>\n",
       "<style scoped>\n",
       "    .dataframe tbody tr th:only-of-type {\n",
       "        vertical-align: middle;\n",
       "    }\n",
       "\n",
       "    .dataframe tbody tr th {\n",
       "        vertical-align: top;\n",
       "    }\n",
       "\n",
       "    .dataframe thead th {\n",
       "        text-align: right;\n",
       "    }\n",
       "</style>\n",
       "<table border=\"1\" class=\"dataframe\">\n",
       "  <thead>\n",
       "    <tr style=\"text-align: right;\">\n",
       "      <th></th>\n",
       "      <th>Gender</th>\n",
       "      <th>Customer Type</th>\n",
       "      <th>Age</th>\n",
       "      <th>Type of Travel</th>\n",
       "      <th>Class</th>\n",
       "      <th>Flight Distance</th>\n",
       "      <th>Inflight wifi service</th>\n",
       "      <th>Departure/Arrival time convenient</th>\n",
       "      <th>Ease of Online booking</th>\n",
       "      <th>Gate location</th>\n",
       "      <th>...</th>\n",
       "      <th>Online boarding</th>\n",
       "      <th>Seat comfort</th>\n",
       "      <th>Inflight entertainment</th>\n",
       "      <th>On-board service</th>\n",
       "      <th>Leg room service</th>\n",
       "      <th>Baggage handling</th>\n",
       "      <th>Checkin service</th>\n",
       "      <th>Inflight service</th>\n",
       "      <th>Cleanliness</th>\n",
       "      <th>satisfaction</th>\n",
       "    </tr>\n",
       "  </thead>\n",
       "  <tbody>\n",
       "    <tr>\n",
       "      <th>Gender</th>\n",
       "      <td>1.000000</td>\n",
       "      <td>-0.031732</td>\n",
       "      <td>0.008928</td>\n",
       "      <td>0.006909</td>\n",
       "      <td>1.000000</td>\n",
       "      <td>0.006440</td>\n",
       "      <td>0.008974</td>\n",
       "      <td>0.009142</td>\n",
       "      <td>0.006951</td>\n",
       "      <td>0.000333</td>\n",
       "      <td>...</td>\n",
       "      <td>-0.042260</td>\n",
       "      <td>-0.026502</td>\n",
       "      <td>0.006117</td>\n",
       "      <td>0.008156</td>\n",
       "      <td>0.031798</td>\n",
       "      <td>0.037391</td>\n",
       "      <td>0.010563</td>\n",
       "      <td>0.039410</td>\n",
       "      <td>0.006505</td>\n",
       "      <td>0.012211</td>\n",
       "    </tr>\n",
       "    <tr>\n",
       "      <th>Customer Type</th>\n",
       "      <td>-0.031732</td>\n",
       "      <td>1.000000</td>\n",
       "      <td>-0.281674</td>\n",
       "      <td>-0.308333</td>\n",
       "      <td>-0.031732</td>\n",
       "      <td>-0.210190</td>\n",
       "      <td>-0.007543</td>\n",
       "      <td>-0.206869</td>\n",
       "      <td>-0.019509</td>\n",
       "      <td>0.006078</td>\n",
       "      <td>...</td>\n",
       "      <td>-0.189262</td>\n",
       "      <td>-0.159484</td>\n",
       "      <td>-0.109930</td>\n",
       "      <td>-0.056560</td>\n",
       "      <td>-0.047868</td>\n",
       "      <td>0.024723</td>\n",
       "      <td>-0.032177</td>\n",
       "      <td>0.022670</td>\n",
       "      <td>-0.083613</td>\n",
       "      <td>-0.187638</td>\n",
       "    </tr>\n",
       "    <tr>\n",
       "      <th>Age</th>\n",
       "      <td>0.008928</td>\n",
       "      <td>-0.281674</td>\n",
       "      <td>1.000000</td>\n",
       "      <td>-0.048524</td>\n",
       "      <td>0.008928</td>\n",
       "      <td>0.077751</td>\n",
       "      <td>0.017859</td>\n",
       "      <td>0.038125</td>\n",
       "      <td>0.024842</td>\n",
       "      <td>-0.001330</td>\n",
       "      <td>...</td>\n",
       "      <td>0.208939</td>\n",
       "      <td>0.160277</td>\n",
       "      <td>0.076444</td>\n",
       "      <td>0.057594</td>\n",
       "      <td>0.040583</td>\n",
       "      <td>-0.047529</td>\n",
       "      <td>0.035482</td>\n",
       "      <td>-0.049427</td>\n",
       "      <td>0.053611</td>\n",
       "      <td>0.137167</td>\n",
       "    </tr>\n",
       "    <tr>\n",
       "      <th>Type of Travel</th>\n",
       "      <td>0.006909</td>\n",
       "      <td>-0.308333</td>\n",
       "      <td>-0.048524</td>\n",
       "      <td>1.000000</td>\n",
       "      <td>0.006909</td>\n",
       "      <td>-0.242225</td>\n",
       "      <td>-0.105085</td>\n",
       "      <td>0.259763</td>\n",
       "      <td>-0.133511</td>\n",
       "      <td>-0.030700</td>\n",
       "      <td>...</td>\n",
       "      <td>-0.224803</td>\n",
       "      <td>-0.124399</td>\n",
       "      <td>-0.148199</td>\n",
       "      <td>-0.056543</td>\n",
       "      <td>-0.138803</td>\n",
       "      <td>-0.031321</td>\n",
       "      <td>0.016751</td>\n",
       "      <td>-0.022599</td>\n",
       "      <td>-0.079207</td>\n",
       "      <td>-0.449000</td>\n",
       "    </tr>\n",
       "    <tr>\n",
       "      <th>Class</th>\n",
       "      <td>1.000000</td>\n",
       "      <td>-0.031732</td>\n",
       "      <td>0.008928</td>\n",
       "      <td>0.006909</td>\n",
       "      <td>1.000000</td>\n",
       "      <td>0.006440</td>\n",
       "      <td>0.008974</td>\n",
       "      <td>0.009142</td>\n",
       "      <td>0.006951</td>\n",
       "      <td>0.000333</td>\n",
       "      <td>...</td>\n",
       "      <td>-0.042260</td>\n",
       "      <td>-0.026502</td>\n",
       "      <td>0.006117</td>\n",
       "      <td>0.008156</td>\n",
       "      <td>0.031798</td>\n",
       "      <td>0.037391</td>\n",
       "      <td>0.010563</td>\n",
       "      <td>0.039410</td>\n",
       "      <td>0.006505</td>\n",
       "      <td>0.012211</td>\n",
       "    </tr>\n",
       "    <tr>\n",
       "      <th>Flight Distance</th>\n",
       "      <td>0.006440</td>\n",
       "      <td>-0.210190</td>\n",
       "      <td>0.077751</td>\n",
       "      <td>-0.242225</td>\n",
       "      <td>0.006440</td>\n",
       "      <td>1.000000</td>\n",
       "      <td>0.008510</td>\n",
       "      <td>-0.008945</td>\n",
       "      <td>0.072414</td>\n",
       "      <td>0.002927</td>\n",
       "      <td>...</td>\n",
       "      <td>0.206982</td>\n",
       "      <td>0.148000</td>\n",
       "      <td>0.115563</td>\n",
       "      <td>0.104866</td>\n",
       "      <td>0.127677</td>\n",
       "      <td>0.063662</td>\n",
       "      <td>0.076013</td>\n",
       "      <td>0.059721</td>\n",
       "      <td>0.087857</td>\n",
       "      <td>0.275154</td>\n",
       "    </tr>\n",
       "    <tr>\n",
       "      <th>Inflight wifi service</th>\n",
       "      <td>0.008974</td>\n",
       "      <td>-0.007543</td>\n",
       "      <td>0.017859</td>\n",
       "      <td>-0.105085</td>\n",
       "      <td>0.008974</td>\n",
       "      <td>0.008510</td>\n",
       "      <td>1.000000</td>\n",
       "      <td>0.343845</td>\n",
       "      <td>0.715856</td>\n",
       "      <td>0.336248</td>\n",
       "      <td>...</td>\n",
       "      <td>0.456970</td>\n",
       "      <td>0.122658</td>\n",
       "      <td>0.209321</td>\n",
       "      <td>0.121500</td>\n",
       "      <td>0.160473</td>\n",
       "      <td>0.120923</td>\n",
       "      <td>0.043193</td>\n",
       "      <td>0.110441</td>\n",
       "      <td>0.132698</td>\n",
       "      <td>0.284245</td>\n",
       "    </tr>\n",
       "    <tr>\n",
       "      <th>Departure/Arrival time convenient</th>\n",
       "      <td>0.009142</td>\n",
       "      <td>-0.206869</td>\n",
       "      <td>0.038125</td>\n",
       "      <td>0.259763</td>\n",
       "      <td>0.009142</td>\n",
       "      <td>-0.008945</td>\n",
       "      <td>0.343845</td>\n",
       "      <td>1.000000</td>\n",
       "      <td>0.436961</td>\n",
       "      <td>0.444757</td>\n",
       "      <td>...</td>\n",
       "      <td>0.070119</td>\n",
       "      <td>0.011344</td>\n",
       "      <td>-0.004861</td>\n",
       "      <td>0.068882</td>\n",
       "      <td>0.012441</td>\n",
       "      <td>0.072126</td>\n",
       "      <td>0.093333</td>\n",
       "      <td>0.073318</td>\n",
       "      <td>0.014292</td>\n",
       "      <td>-0.051601</td>\n",
       "    </tr>\n",
       "    <tr>\n",
       "      <th>Ease of Online booking</th>\n",
       "      <td>0.006951</td>\n",
       "      <td>-0.019509</td>\n",
       "      <td>0.024842</td>\n",
       "      <td>-0.133511</td>\n",
       "      <td>0.006951</td>\n",
       "      <td>0.072414</td>\n",
       "      <td>0.715856</td>\n",
       "      <td>0.436961</td>\n",
       "      <td>1.000000</td>\n",
       "      <td>0.458655</td>\n",
       "      <td>...</td>\n",
       "      <td>0.404074</td>\n",
       "      <td>0.030014</td>\n",
       "      <td>0.047032</td>\n",
       "      <td>0.038833</td>\n",
       "      <td>0.107601</td>\n",
       "      <td>0.038762</td>\n",
       "      <td>0.011081</td>\n",
       "      <td>0.035272</td>\n",
       "      <td>0.016179</td>\n",
       "      <td>0.171705</td>\n",
       "    </tr>\n",
       "    <tr>\n",
       "      <th>Gate location</th>\n",
       "      <td>0.000333</td>\n",
       "      <td>0.006078</td>\n",
       "      <td>-0.001330</td>\n",
       "      <td>-0.030700</td>\n",
       "      <td>0.000333</td>\n",
       "      <td>0.002927</td>\n",
       "      <td>0.336248</td>\n",
       "      <td>0.444757</td>\n",
       "      <td>0.458655</td>\n",
       "      <td>1.000000</td>\n",
       "      <td>...</td>\n",
       "      <td>0.001688</td>\n",
       "      <td>0.003669</td>\n",
       "      <td>0.003517</td>\n",
       "      <td>-0.028373</td>\n",
       "      <td>-0.005873</td>\n",
       "      <td>0.002313</td>\n",
       "      <td>-0.035427</td>\n",
       "      <td>0.001681</td>\n",
       "      <td>-0.003830</td>\n",
       "      <td>0.000682</td>\n",
       "    </tr>\n",
       "    <tr>\n",
       "      <th>Food and drink</th>\n",
       "      <td>0.005772</td>\n",
       "      <td>-0.059454</td>\n",
       "      <td>0.023000</td>\n",
       "      <td>-0.063439</td>\n",
       "      <td>0.005772</td>\n",
       "      <td>0.052131</td>\n",
       "      <td>0.134718</td>\n",
       "      <td>0.004906</td>\n",
       "      <td>0.031873</td>\n",
       "      <td>-0.001159</td>\n",
       "      <td>...</td>\n",
       "      <td>0.234468</td>\n",
       "      <td>0.574556</td>\n",
       "      <td>0.622512</td>\n",
       "      <td>0.059073</td>\n",
       "      <td>0.032498</td>\n",
       "      <td>0.034746</td>\n",
       "      <td>0.087299</td>\n",
       "      <td>0.033993</td>\n",
       "      <td>0.657760</td>\n",
       "      <td>0.209936</td>\n",
       "    </tr>\n",
       "    <tr>\n",
       "      <th>Online boarding</th>\n",
       "      <td>-0.042260</td>\n",
       "      <td>-0.189262</td>\n",
       "      <td>0.208939</td>\n",
       "      <td>-0.224803</td>\n",
       "      <td>-0.042260</td>\n",
       "      <td>0.206982</td>\n",
       "      <td>0.456970</td>\n",
       "      <td>0.070119</td>\n",
       "      <td>0.404074</td>\n",
       "      <td>0.001688</td>\n",
       "      <td>...</td>\n",
       "      <td>1.000000</td>\n",
       "      <td>0.420211</td>\n",
       "      <td>0.285066</td>\n",
       "      <td>0.155443</td>\n",
       "      <td>0.123950</td>\n",
       "      <td>0.083280</td>\n",
       "      <td>0.204462</td>\n",
       "      <td>0.074573</td>\n",
       "      <td>0.331517</td>\n",
       "      <td>0.503557</td>\n",
       "    </tr>\n",
       "    <tr>\n",
       "      <th>Seat comfort</th>\n",
       "      <td>-0.026502</td>\n",
       "      <td>-0.159484</td>\n",
       "      <td>0.160277</td>\n",
       "      <td>-0.124399</td>\n",
       "      <td>-0.026502</td>\n",
       "      <td>0.148000</td>\n",
       "      <td>0.122658</td>\n",
       "      <td>0.011344</td>\n",
       "      <td>0.030014</td>\n",
       "      <td>0.003669</td>\n",
       "      <td>...</td>\n",
       "      <td>0.420211</td>\n",
       "      <td>1.000000</td>\n",
       "      <td>0.610590</td>\n",
       "      <td>0.131971</td>\n",
       "      <td>0.105559</td>\n",
       "      <td>0.074542</td>\n",
       "      <td>0.191854</td>\n",
       "      <td>0.069218</td>\n",
       "      <td>0.678534</td>\n",
       "      <td>0.349459</td>\n",
       "    </tr>\n",
       "    <tr>\n",
       "      <th>Inflight entertainment</th>\n",
       "      <td>0.006117</td>\n",
       "      <td>-0.109930</td>\n",
       "      <td>0.076444</td>\n",
       "      <td>-0.148199</td>\n",
       "      <td>0.006117</td>\n",
       "      <td>0.115563</td>\n",
       "      <td>0.209321</td>\n",
       "      <td>-0.004861</td>\n",
       "      <td>0.047032</td>\n",
       "      <td>0.003517</td>\n",
       "      <td>...</td>\n",
       "      <td>0.285066</td>\n",
       "      <td>0.610590</td>\n",
       "      <td>1.000000</td>\n",
       "      <td>0.420153</td>\n",
       "      <td>0.299692</td>\n",
       "      <td>0.378210</td>\n",
       "      <td>0.120867</td>\n",
       "      <td>0.404855</td>\n",
       "      <td>0.691815</td>\n",
       "      <td>0.398059</td>\n",
       "    </tr>\n",
       "    <tr>\n",
       "      <th>On-board service</th>\n",
       "      <td>0.008156</td>\n",
       "      <td>-0.056560</td>\n",
       "      <td>0.057594</td>\n",
       "      <td>-0.056543</td>\n",
       "      <td>0.008156</td>\n",
       "      <td>0.104866</td>\n",
       "      <td>0.121500</td>\n",
       "      <td>0.068882</td>\n",
       "      <td>0.038833</td>\n",
       "      <td>-0.028373</td>\n",
       "      <td>...</td>\n",
       "      <td>0.155443</td>\n",
       "      <td>0.131971</td>\n",
       "      <td>0.420153</td>\n",
       "      <td>1.000000</td>\n",
       "      <td>0.355495</td>\n",
       "      <td>0.519134</td>\n",
       "      <td>0.243914</td>\n",
       "      <td>0.550782</td>\n",
       "      <td>0.123220</td>\n",
       "      <td>0.322383</td>\n",
       "    </tr>\n",
       "    <tr>\n",
       "      <th>Leg room service</th>\n",
       "      <td>0.031798</td>\n",
       "      <td>-0.047868</td>\n",
       "      <td>0.040583</td>\n",
       "      <td>-0.138803</td>\n",
       "      <td>0.031798</td>\n",
       "      <td>0.127677</td>\n",
       "      <td>0.160473</td>\n",
       "      <td>0.012441</td>\n",
       "      <td>0.107601</td>\n",
       "      <td>-0.005873</td>\n",
       "      <td>...</td>\n",
       "      <td>0.123950</td>\n",
       "      <td>0.105559</td>\n",
       "      <td>0.299692</td>\n",
       "      <td>0.355495</td>\n",
       "      <td>1.000000</td>\n",
       "      <td>0.369544</td>\n",
       "      <td>0.153137</td>\n",
       "      <td>0.368656</td>\n",
       "      <td>0.096370</td>\n",
       "      <td>0.313131</td>\n",
       "    </tr>\n",
       "    <tr>\n",
       "      <th>Baggage handling</th>\n",
       "      <td>0.037391</td>\n",
       "      <td>0.024723</td>\n",
       "      <td>-0.047529</td>\n",
       "      <td>-0.031321</td>\n",
       "      <td>0.037391</td>\n",
       "      <td>0.063662</td>\n",
       "      <td>0.120923</td>\n",
       "      <td>0.072126</td>\n",
       "      <td>0.038762</td>\n",
       "      <td>0.002313</td>\n",
       "      <td>...</td>\n",
       "      <td>0.083280</td>\n",
       "      <td>0.074542</td>\n",
       "      <td>0.378210</td>\n",
       "      <td>0.519134</td>\n",
       "      <td>0.369544</td>\n",
       "      <td>1.000000</td>\n",
       "      <td>0.233122</td>\n",
       "      <td>0.628561</td>\n",
       "      <td>0.095793</td>\n",
       "      <td>0.247749</td>\n",
       "    </tr>\n",
       "    <tr>\n",
       "      <th>Checkin service</th>\n",
       "      <td>0.010563</td>\n",
       "      <td>-0.032177</td>\n",
       "      <td>0.035482</td>\n",
       "      <td>0.016751</td>\n",
       "      <td>0.010563</td>\n",
       "      <td>0.076013</td>\n",
       "      <td>0.043193</td>\n",
       "      <td>0.093333</td>\n",
       "      <td>0.011081</td>\n",
       "      <td>-0.035427</td>\n",
       "      <td>...</td>\n",
       "      <td>0.204462</td>\n",
       "      <td>0.191854</td>\n",
       "      <td>0.120867</td>\n",
       "      <td>0.243914</td>\n",
       "      <td>0.153137</td>\n",
       "      <td>0.233122</td>\n",
       "      <td>1.000000</td>\n",
       "      <td>0.237197</td>\n",
       "      <td>0.179583</td>\n",
       "      <td>0.236174</td>\n",
       "    </tr>\n",
       "    <tr>\n",
       "      <th>Inflight service</th>\n",
       "      <td>0.039410</td>\n",
       "      <td>0.022670</td>\n",
       "      <td>-0.049427</td>\n",
       "      <td>-0.022599</td>\n",
       "      <td>0.039410</td>\n",
       "      <td>0.059721</td>\n",
       "      <td>0.110441</td>\n",
       "      <td>0.073318</td>\n",
       "      <td>0.035272</td>\n",
       "      <td>0.001681</td>\n",
       "      <td>...</td>\n",
       "      <td>0.074573</td>\n",
       "      <td>0.069218</td>\n",
       "      <td>0.404855</td>\n",
       "      <td>0.550782</td>\n",
       "      <td>0.368656</td>\n",
       "      <td>0.628561</td>\n",
       "      <td>0.237197</td>\n",
       "      <td>1.000000</td>\n",
       "      <td>0.088779</td>\n",
       "      <td>0.244741</td>\n",
       "    </tr>\n",
       "    <tr>\n",
       "      <th>Cleanliness</th>\n",
       "      <td>0.006505</td>\n",
       "      <td>-0.083613</td>\n",
       "      <td>0.053611</td>\n",
       "      <td>-0.079207</td>\n",
       "      <td>0.006505</td>\n",
       "      <td>0.087857</td>\n",
       "      <td>0.132698</td>\n",
       "      <td>0.014292</td>\n",
       "      <td>0.016179</td>\n",
       "      <td>-0.003830</td>\n",
       "      <td>...</td>\n",
       "      <td>0.331517</td>\n",
       "      <td>0.678534</td>\n",
       "      <td>0.691815</td>\n",
       "      <td>0.123220</td>\n",
       "      <td>0.096370</td>\n",
       "      <td>0.095793</td>\n",
       "      <td>0.179583</td>\n",
       "      <td>0.088779</td>\n",
       "      <td>1.000000</td>\n",
       "      <td>0.305198</td>\n",
       "    </tr>\n",
       "    <tr>\n",
       "      <th>satisfaction</th>\n",
       "      <td>0.012211</td>\n",
       "      <td>-0.187638</td>\n",
       "      <td>0.137167</td>\n",
       "      <td>-0.449000</td>\n",
       "      <td>0.012211</td>\n",
       "      <td>0.275154</td>\n",
       "      <td>0.284245</td>\n",
       "      <td>-0.051601</td>\n",
       "      <td>0.171705</td>\n",
       "      <td>0.000682</td>\n",
       "      <td>...</td>\n",
       "      <td>0.503557</td>\n",
       "      <td>0.349459</td>\n",
       "      <td>0.398059</td>\n",
       "      <td>0.322383</td>\n",
       "      <td>0.313131</td>\n",
       "      <td>0.247749</td>\n",
       "      <td>0.236174</td>\n",
       "      <td>0.244741</td>\n",
       "      <td>0.305198</td>\n",
       "      <td>1.000000</td>\n",
       "    </tr>\n",
       "  </tbody>\n",
       "</table>\n",
       "<p>21 rows × 21 columns</p>\n",
       "</div>"
      ],
      "text/plain": [
       "                                     Gender  Customer Type       Age  \\\n",
       "Gender                             1.000000      -0.031732  0.008928   \n",
       "Customer Type                     -0.031732       1.000000 -0.281674   \n",
       "Age                                0.008928      -0.281674  1.000000   \n",
       "Type of Travel                     0.006909      -0.308333 -0.048524   \n",
       "Class                              1.000000      -0.031732  0.008928   \n",
       "Flight Distance                    0.006440      -0.210190  0.077751   \n",
       "Inflight wifi service              0.008974      -0.007543  0.017859   \n",
       "Departure/Arrival time convenient  0.009142      -0.206869  0.038125   \n",
       "Ease of Online booking             0.006951      -0.019509  0.024842   \n",
       "Gate location                      0.000333       0.006078 -0.001330   \n",
       "Food and drink                     0.005772      -0.059454  0.023000   \n",
       "Online boarding                   -0.042260      -0.189262  0.208939   \n",
       "Seat comfort                      -0.026502      -0.159484  0.160277   \n",
       "Inflight entertainment             0.006117      -0.109930  0.076444   \n",
       "On-board service                   0.008156      -0.056560  0.057594   \n",
       "Leg room service                   0.031798      -0.047868  0.040583   \n",
       "Baggage handling                   0.037391       0.024723 -0.047529   \n",
       "Checkin service                    0.010563      -0.032177  0.035482   \n",
       "Inflight service                   0.039410       0.022670 -0.049427   \n",
       "Cleanliness                        0.006505      -0.083613  0.053611   \n",
       "satisfaction                       0.012211      -0.187638  0.137167   \n",
       "\n",
       "                                   Type of Travel     Class  Flight Distance  \\\n",
       "Gender                                   0.006909  1.000000         0.006440   \n",
       "Customer Type                           -0.308333 -0.031732        -0.210190   \n",
       "Age                                     -0.048524  0.008928         0.077751   \n",
       "Type of Travel                           1.000000  0.006909        -0.242225   \n",
       "Class                                    0.006909  1.000000         0.006440   \n",
       "Flight Distance                         -0.242225  0.006440         1.000000   \n",
       "Inflight wifi service                   -0.105085  0.008974         0.008510   \n",
       "Departure/Arrival time convenient        0.259763  0.009142        -0.008945   \n",
       "Ease of Online booking                  -0.133511  0.006951         0.072414   \n",
       "Gate location                           -0.030700  0.000333         0.002927   \n",
       "Food and drink                          -0.063439  0.005772         0.052131   \n",
       "Online boarding                         -0.224803 -0.042260         0.206982   \n",
       "Seat comfort                            -0.124399 -0.026502         0.148000   \n",
       "Inflight entertainment                  -0.148199  0.006117         0.115563   \n",
       "On-board service                        -0.056543  0.008156         0.104866   \n",
       "Leg room service                        -0.138803  0.031798         0.127677   \n",
       "Baggage handling                        -0.031321  0.037391         0.063662   \n",
       "Checkin service                          0.016751  0.010563         0.076013   \n",
       "Inflight service                        -0.022599  0.039410         0.059721   \n",
       "Cleanliness                             -0.079207  0.006505         0.087857   \n",
       "satisfaction                            -0.449000  0.012211         0.275154   \n",
       "\n",
       "                                   Inflight wifi service  \\\n",
       "Gender                                          0.008974   \n",
       "Customer Type                                  -0.007543   \n",
       "Age                                             0.017859   \n",
       "Type of Travel                                 -0.105085   \n",
       "Class                                           0.008974   \n",
       "Flight Distance                                 0.008510   \n",
       "Inflight wifi service                           1.000000   \n",
       "Departure/Arrival time convenient               0.343845   \n",
       "Ease of Online booking                          0.715856   \n",
       "Gate location                                   0.336248   \n",
       "Food and drink                                  0.134718   \n",
       "Online boarding                                 0.456970   \n",
       "Seat comfort                                    0.122658   \n",
       "Inflight entertainment                          0.209321   \n",
       "On-board service                                0.121500   \n",
       "Leg room service                                0.160473   \n",
       "Baggage handling                                0.120923   \n",
       "Checkin service                                 0.043193   \n",
       "Inflight service                                0.110441   \n",
       "Cleanliness                                     0.132698   \n",
       "satisfaction                                    0.284245   \n",
       "\n",
       "                                   Departure/Arrival time convenient  \\\n",
       "Gender                                                      0.009142   \n",
       "Customer Type                                              -0.206869   \n",
       "Age                                                         0.038125   \n",
       "Type of Travel                                              0.259763   \n",
       "Class                                                       0.009142   \n",
       "Flight Distance                                            -0.008945   \n",
       "Inflight wifi service                                       0.343845   \n",
       "Departure/Arrival time convenient                           1.000000   \n",
       "Ease of Online booking                                      0.436961   \n",
       "Gate location                                               0.444757   \n",
       "Food and drink                                              0.004906   \n",
       "Online boarding                                             0.070119   \n",
       "Seat comfort                                                0.011344   \n",
       "Inflight entertainment                                     -0.004861   \n",
       "On-board service                                            0.068882   \n",
       "Leg room service                                            0.012441   \n",
       "Baggage handling                                            0.072126   \n",
       "Checkin service                                             0.093333   \n",
       "Inflight service                                            0.073318   \n",
       "Cleanliness                                                 0.014292   \n",
       "satisfaction                                               -0.051601   \n",
       "\n",
       "                                   Ease of Online booking  Gate location  ...  \\\n",
       "Gender                                           0.006951       0.000333  ...   \n",
       "Customer Type                                   -0.019509       0.006078  ...   \n",
       "Age                                              0.024842      -0.001330  ...   \n",
       "Type of Travel                                  -0.133511      -0.030700  ...   \n",
       "Class                                            0.006951       0.000333  ...   \n",
       "Flight Distance                                  0.072414       0.002927  ...   \n",
       "Inflight wifi service                            0.715856       0.336248  ...   \n",
       "Departure/Arrival time convenient                0.436961       0.444757  ...   \n",
       "Ease of Online booking                           1.000000       0.458655  ...   \n",
       "Gate location                                    0.458655       1.000000  ...   \n",
       "Food and drink                                   0.031873      -0.001159  ...   \n",
       "Online boarding                                  0.404074       0.001688  ...   \n",
       "Seat comfort                                     0.030014       0.003669  ...   \n",
       "Inflight entertainment                           0.047032       0.003517  ...   \n",
       "On-board service                                 0.038833      -0.028373  ...   \n",
       "Leg room service                                 0.107601      -0.005873  ...   \n",
       "Baggage handling                                 0.038762       0.002313  ...   \n",
       "Checkin service                                  0.011081      -0.035427  ...   \n",
       "Inflight service                                 0.035272       0.001681  ...   \n",
       "Cleanliness                                      0.016179      -0.003830  ...   \n",
       "satisfaction                                     0.171705       0.000682  ...   \n",
       "\n",
       "                                   Online boarding  Seat comfort  \\\n",
       "Gender                                   -0.042260     -0.026502   \n",
       "Customer Type                            -0.189262     -0.159484   \n",
       "Age                                       0.208939      0.160277   \n",
       "Type of Travel                           -0.224803     -0.124399   \n",
       "Class                                    -0.042260     -0.026502   \n",
       "Flight Distance                           0.206982      0.148000   \n",
       "Inflight wifi service                     0.456970      0.122658   \n",
       "Departure/Arrival time convenient         0.070119      0.011344   \n",
       "Ease of Online booking                    0.404074      0.030014   \n",
       "Gate location                             0.001688      0.003669   \n",
       "Food and drink                            0.234468      0.574556   \n",
       "Online boarding                           1.000000      0.420211   \n",
       "Seat comfort                              0.420211      1.000000   \n",
       "Inflight entertainment                    0.285066      0.610590   \n",
       "On-board service                          0.155443      0.131971   \n",
       "Leg room service                          0.123950      0.105559   \n",
       "Baggage handling                          0.083280      0.074542   \n",
       "Checkin service                           0.204462      0.191854   \n",
       "Inflight service                          0.074573      0.069218   \n",
       "Cleanliness                               0.331517      0.678534   \n",
       "satisfaction                              0.503557      0.349459   \n",
       "\n",
       "                                   Inflight entertainment  On-board service  \\\n",
       "Gender                                           0.006117          0.008156   \n",
       "Customer Type                                   -0.109930         -0.056560   \n",
       "Age                                              0.076444          0.057594   \n",
       "Type of Travel                                  -0.148199         -0.056543   \n",
       "Class                                            0.006117          0.008156   \n",
       "Flight Distance                                  0.115563          0.104866   \n",
       "Inflight wifi service                            0.209321          0.121500   \n",
       "Departure/Arrival time convenient               -0.004861          0.068882   \n",
       "Ease of Online booking                           0.047032          0.038833   \n",
       "Gate location                                    0.003517         -0.028373   \n",
       "Food and drink                                   0.622512          0.059073   \n",
       "Online boarding                                  0.285066          0.155443   \n",
       "Seat comfort                                     0.610590          0.131971   \n",
       "Inflight entertainment                           1.000000          0.420153   \n",
       "On-board service                                 0.420153          1.000000   \n",
       "Leg room service                                 0.299692          0.355495   \n",
       "Baggage handling                                 0.378210          0.519134   \n",
       "Checkin service                                  0.120867          0.243914   \n",
       "Inflight service                                 0.404855          0.550782   \n",
       "Cleanliness                                      0.691815          0.123220   \n",
       "satisfaction                                     0.398059          0.322383   \n",
       "\n",
       "                                   Leg room service  Baggage handling  \\\n",
       "Gender                                     0.031798          0.037391   \n",
       "Customer Type                             -0.047868          0.024723   \n",
       "Age                                        0.040583         -0.047529   \n",
       "Type of Travel                            -0.138803         -0.031321   \n",
       "Class                                      0.031798          0.037391   \n",
       "Flight Distance                            0.127677          0.063662   \n",
       "Inflight wifi service                      0.160473          0.120923   \n",
       "Departure/Arrival time convenient          0.012441          0.072126   \n",
       "Ease of Online booking                     0.107601          0.038762   \n",
       "Gate location                             -0.005873          0.002313   \n",
       "Food and drink                             0.032498          0.034746   \n",
       "Online boarding                            0.123950          0.083280   \n",
       "Seat comfort                               0.105559          0.074542   \n",
       "Inflight entertainment                     0.299692          0.378210   \n",
       "On-board service                           0.355495          0.519134   \n",
       "Leg room service                           1.000000          0.369544   \n",
       "Baggage handling                           0.369544          1.000000   \n",
       "Checkin service                            0.153137          0.233122   \n",
       "Inflight service                           0.368656          0.628561   \n",
       "Cleanliness                                0.096370          0.095793   \n",
       "satisfaction                               0.313131          0.247749   \n",
       "\n",
       "                                   Checkin service  Inflight service  \\\n",
       "Gender                                    0.010563          0.039410   \n",
       "Customer Type                            -0.032177          0.022670   \n",
       "Age                                       0.035482         -0.049427   \n",
       "Type of Travel                            0.016751         -0.022599   \n",
       "Class                                     0.010563          0.039410   \n",
       "Flight Distance                           0.076013          0.059721   \n",
       "Inflight wifi service                     0.043193          0.110441   \n",
       "Departure/Arrival time convenient         0.093333          0.073318   \n",
       "Ease of Online booking                    0.011081          0.035272   \n",
       "Gate location                            -0.035427          0.001681   \n",
       "Food and drink                            0.087299          0.033993   \n",
       "Online boarding                           0.204462          0.074573   \n",
       "Seat comfort                              0.191854          0.069218   \n",
       "Inflight entertainment                    0.120867          0.404855   \n",
       "On-board service                          0.243914          0.550782   \n",
       "Leg room service                          0.153137          0.368656   \n",
       "Baggage handling                          0.233122          0.628561   \n",
       "Checkin service                           1.000000          0.237197   \n",
       "Inflight service                          0.237197          1.000000   \n",
       "Cleanliness                               0.179583          0.088779   \n",
       "satisfaction                              0.236174          0.244741   \n",
       "\n",
       "                                   Cleanliness  satisfaction  \n",
       "Gender                                0.006505      0.012211  \n",
       "Customer Type                        -0.083613     -0.187638  \n",
       "Age                                   0.053611      0.137167  \n",
       "Type of Travel                       -0.079207     -0.449000  \n",
       "Class                                 0.006505      0.012211  \n",
       "Flight Distance                       0.087857      0.275154  \n",
       "Inflight wifi service                 0.132698      0.284245  \n",
       "Departure/Arrival time convenient     0.014292     -0.051601  \n",
       "Ease of Online booking                0.016179      0.171705  \n",
       "Gate location                        -0.003830      0.000682  \n",
       "Food and drink                        0.657760      0.209936  \n",
       "Online boarding                       0.331517      0.503557  \n",
       "Seat comfort                          0.678534      0.349459  \n",
       "Inflight entertainment                0.691815      0.398059  \n",
       "On-board service                      0.123220      0.322383  \n",
       "Leg room service                      0.096370      0.313131  \n",
       "Baggage handling                      0.095793      0.247749  \n",
       "Checkin service                       0.179583      0.236174  \n",
       "Inflight service                      0.088779      0.244741  \n",
       "Cleanliness                           1.000000      0.305198  \n",
       "satisfaction                          0.305198      1.000000  \n",
       "\n",
       "[21 rows x 21 columns]"
      ]
     },
     "execution_count": 90,
     "metadata": {},
     "output_type": "execute_result"
    }
   ],
   "source": [
    "import seaborn as sns\n",
    "traindf_corr=traindf.corr()\n",
    "traindf_corr"
   ]
  },
  {
   "cell_type": "code",
   "execution_count": 91,
   "id": "7da78bc0",
   "metadata": {},
   "outputs": [
    {
     "data": {
      "image/png": "[encoded data removed]",
      "text/plain": [
       "<Figure size 3000x2000 with 2 Axes>"
      ]
     },
     "metadata": {},
     "output_type": "display_data"
    }
   ],
   "source": [
    "plt.figure(figsize=(30,20))\n",
    "heatmap=sns.heatmap(traindf_corr,linewidth=1,annot=True,cmap=plt.cm.OrRd,fmt=\".2f\")\n",
    "plt.title(\"Heatmap using Seaborn Method\")\n",
    "plt.show()"
   ]
  },
  {
   "cell_type": "markdown",
   "id": "4b511e26",
   "metadata": {},
   "source": [
    "# Models After EDA "
   ]
  },
  {
   "cell_type": "code",
   "execution_count": 92,
   "id": "7d0e7c90",
   "metadata": {},
   "outputs": [],
   "source": [
    "x_train2=traindf.drop(['satisfaction'],axis=1, inplace=False)\n",
    "x_test2=testdf.drop(['satisfaction'],axis=1, inplace=False)\n",
    "y_train2=traindf['satisfaction']\n",
    "y_test2=testdf['satisfaction']"
   ]
  },
  {
   "cell_type": "code",
   "execution_count": 93,
   "id": "e058fc78",
   "metadata": {},
   "outputs": [
    {
     "data": {
      "text/plain": [
       "((103904, 20), (25976, 20), (103904,), (25976,))"
      ]
     },
     "execution_count": 93,
     "metadata": {},
     "output_type": "execute_result"
    }
   ],
   "source": [
    "x_train2.shape,x_test2.shape,y_train2.shape,y_test2.shape"
   ]
  },
  {
   "cell_type": "markdown",
   "id": "714f09ee",
   "metadata": {},
   "source": [
    "## Logistic Regression"
   ]
  },
  {
   "cell_type": "code",
   "execution_count": 94,
   "id": "2f917406",
   "metadata": {},
   "outputs": [
    {
     "data": {
      "text/plain": [
       "85.92161995688328"
      ]
     },
     "execution_count": 94,
     "metadata": {},
     "output_type": "execute_result"
    }
   ],
   "source": [
    "lg.fit(x_train2, y_train2)\n",
    "lg_p2=lg.predict(x_test2)\n",
    "lg_m2 = confusion_matrix(lg_p2,y_test2)\n",
    "lg_acc2 = lg_m2.diagonal().sum()/lg_m2.sum()*100\n",
    "lg_acc2"
   ]
  },
  {
   "cell_type": "code",
   "execution_count": 95,
   "id": "59d75123",
   "metadata": {},
   "outputs": [
    {
     "name": "stdout",
     "output_type": "stream",
     "text": [
      "              precision    recall  f1-score   support\n",
      "\n",
      "           0       0.87      0.87      0.87     14568\n",
      "           1       0.84      0.84      0.84     11408\n",
      "\n",
      "    accuracy                           0.86     25976\n",
      "   macro avg       0.86      0.86      0.86     25976\n",
      "weighted avg       0.86      0.86      0.86     25976\n",
      "\n"
     ]
    }
   ],
   "source": [
    "print(classification_report(lg_p2,y_test2))"
   ]
  },
  {
   "cell_type": "code",
   "execution_count": 96,
   "id": "9eac6ec1",
   "metadata": {},
   "outputs": [],
   "source": [
    "lg_list2=[accuracy_score(y_test2, lg_p2),precision_score(y_test2, lg_p2),recall_score(y_test2, lg_p2), f1_score(y_test2, lg_p2)]"
   ]
  },
  {
   "cell_type": "markdown",
   "id": "72fd27ac",
   "metadata": {},
   "source": [
    "## Decision Tree"
   ]
  },
  {
   "cell_type": "code",
   "execution_count": 97,
   "id": "9b75cf7c",
   "metadata": {},
   "outputs": [
    {
     "data": {
      "text/plain": [
       "92.87419156144134"
      ]
     },
     "execution_count": 97,
     "metadata": {},
     "output_type": "execute_result"
    }
   ],
   "source": [
    "dt.fit(x_train2,y_train2)\n",
    "dt_p2 = dt.predict(x_test2)\n",
    "dt_m2 = confusion_matrix(dt_p2,y_test2)\n",
    "dt_acc2 = dt_m2.diagonal().sum()/dt_m2.sum()*100\n",
    "dt_acc2"
   ]
  },
  {
   "cell_type": "code",
   "execution_count": 98,
   "id": "2f78a506",
   "metadata": {},
   "outputs": [
    {
     "name": "stdout",
     "output_type": "stream",
     "text": [
      "              precision    recall  f1-score   support\n",
      "\n",
      "           0       0.92      0.95      0.94     14156\n",
      "           1       0.94      0.90      0.92     11820\n",
      "\n",
      "    accuracy                           0.93     25976\n",
      "   macro avg       0.93      0.93      0.93     25976\n",
      "weighted avg       0.93      0.93      0.93     25976\n",
      "\n"
     ]
    }
   ],
   "source": [
    "print(classification_report(dt_p2,y_test2))"
   ]
  },
  {
   "cell_type": "code",
   "execution_count": 99,
   "id": "054e7438",
   "metadata": {},
   "outputs": [],
   "source": [
    "dt_list2=[accuracy_score(y_test2, dt_p2),precision_score(y_test2, dt_p2),recall_score(y_test2, dt_p2), f1_score(y_test2, dt_p2)]"
   ]
  },
  {
   "cell_type": "markdown",
   "id": "67e9912b",
   "metadata": {},
   "source": [
    "## Random Forest"
   ]
  },
  {
   "cell_type": "code",
   "execution_count": 100,
   "id": "ff18ef5e",
   "metadata": {},
   "outputs": [
    {
     "data": {
      "text/plain": [
       "95.85771481367415"
      ]
     },
     "execution_count": 100,
     "metadata": {},
     "output_type": "execute_result"
    }
   ],
   "source": [
    "rf.fit(x_train2,y_train2)\n",
    "rf_p2 = rf.predict(x_test2)\n",
    "rf_m2 = confusion_matrix(rf_p2,y_test2)\n",
    "rf_acc2 = rf_m2.diagonal().sum()/rf_m2.sum()*100   \n",
    "rf_acc2"
   ]
  },
  {
   "cell_type": "code",
   "execution_count": 101,
   "id": "67f72734",
   "metadata": {},
   "outputs": [
    {
     "name": "stdout",
     "output_type": "stream",
     "text": [
      "              precision    recall  f1-score   support\n",
      "\n",
      "           0       0.98      0.95      0.96     14949\n",
      "           1       0.94      0.97      0.95     11027\n",
      "\n",
      "    accuracy                           0.96     25976\n",
      "   macro avg       0.96      0.96      0.96     25976\n",
      "weighted avg       0.96      0.96      0.96     25976\n",
      "\n"
     ]
    }
   ],
   "source": [
    "print(classification_report(rf_p2,y_test2))"
   ]
  },
  {
   "cell_type": "code",
   "execution_count": 102,
   "id": "728cb690",
   "metadata": {},
   "outputs": [],
   "source": [
    "rf_list2=[accuracy_score(y_test2, rf_p2),precision_score(y_test2, rf_p2),recall_score(y_test2, rf_p2), f1_score(y_test2, rf_p2)]"
   ]
  },
  {
   "cell_type": "markdown",
   "id": "d0fc90ad",
   "metadata": {},
   "source": [
    "## Naive Bayes"
   ]
  },
  {
   "cell_type": "code",
   "execution_count": 103,
   "id": "52e6f7ab",
   "metadata": {},
   "outputs": [],
   "source": [
    "from sklearn.naive_bayes import MultinomialNB\n",
    "nb = MultinomialNB()"
   ]
  },
  {
   "cell_type": "code",
   "execution_count": 104,
   "id": "bac623b7",
   "metadata": {},
   "outputs": [
    {
     "data": {
      "text/plain": [
       "45.97320603634124"
      ]
     },
     "execution_count": 104,
     "metadata": {},
     "output_type": "execute_result"
    }
   ],
   "source": [
    "nb.fit(x_train2,y_train2)\n",
    "nb_p2 = nb.predict(x_test2)\n",
    "nb_m2 = confusion_matrix(nb_p2,y_test2)\n",
    "nb_acc2 = nb_m2.diagonal().sum()/nb_m2.sum()*100\n",
    "nb_acc2"
   ]
  },
  {
   "cell_type": "code",
   "execution_count": 105,
   "id": "49a705b3",
   "metadata": {},
   "outputs": [
    {
     "name": "stdout",
     "output_type": "stream",
     "text": [
      "              precision    recall  f1-score   support\n",
      "\n",
      "           0       0.04      0.90      0.08       669\n",
      "           1       0.99      0.45      0.62     25307\n",
      "\n",
      "    accuracy                           0.46     25976\n",
      "   macro avg       0.52      0.68      0.35     25976\n",
      "weighted avg       0.97      0.46      0.60     25976\n",
      "\n"
     ]
    }
   ],
   "source": [
    "print(classification_report(nb_p2,y_test2))"
   ]
  },
  {
   "cell_type": "code",
   "execution_count": 106,
   "id": "c02fe11c",
   "metadata": {},
   "outputs": [],
   "source": [
    "nb_list2=[accuracy_score(y_test2, nb_p2),precision_score(y_test2, nb_p2),recall_score(y_test2, nb_p2), f1_score(y_test2, nb_p2)]"
   ]
  },
  {
   "cell_type": "markdown",
   "id": "f2d544d3",
   "metadata": {},
   "source": [
    "## XGBoost"
   ]
  },
  {
   "cell_type": "code",
   "execution_count": 107,
   "id": "289e9471",
   "metadata": {},
   "outputs": [
    {
     "data": {
      "text/plain": [
       "94.17154296273483"
      ]
     },
     "execution_count": 107,
     "metadata": {},
     "output_type": "execute_result"
    }
   ],
   "source": [
    "xgb.fit(x_train2,y_train2)\n",
    "xgb_p2 = xgb.predict(x_test2)\n",
    "xgb_m2 = confusion_matrix(xgb_p2,y_test2)\n",
    "xgb_ac2 = xgb_m2.diagonal().sum()/xgb_m2.sum()*100\n",
    "xgb_ac2"
   ]
  },
  {
   "cell_type": "code",
   "execution_count": 108,
   "id": "9c7a1bab",
   "metadata": {},
   "outputs": [
    {
     "name": "stdout",
     "output_type": "stream",
     "text": [
      "              precision    recall  f1-score   support\n",
      "\n",
      "           0       0.93      0.96      0.95     14117\n",
      "           1       0.95      0.92      0.93     11859\n",
      "\n",
      "    accuracy                           0.94     25976\n",
      "   macro avg       0.94      0.94      0.94     25976\n",
      "weighted avg       0.94      0.94      0.94     25976\n",
      "\n"
     ]
    }
   ],
   "source": [
    "print(classification_report(xgb_p2,y_test2))"
   ]
  },
  {
   "cell_type": "code",
   "execution_count": 109,
   "id": "161253a8",
   "metadata": {},
   "outputs": [],
   "source": [
    "xgb_list2=[accuracy_score(y_test2, xgb_p2),precision_score(y_test2, xgb_p2),recall_score(y_test2, xgb_p2), f1_score(y_test2, xgb_p2)]"
   ]
  },
  {
   "cell_type": "markdown",
   "id": "aeca4968",
   "metadata": {},
   "source": [
    "## DF After EDA "
   ]
  },
  {
   "cell_type": "code",
   "execution_count": 110,
   "id": "0d50be3a",
   "metadata": {},
   "outputs": [],
   "source": [
    "list2 = {\n",
    "    \"LogisticRegression\": lg_list2,\n",
    "    \"DecisionTree\": dt_list2,\n",
    "    \"RandomForest\": rf_list2,\n",
    "    \"NaiveBayes\": nb_list2,\n",
    "    \"XGBoost\": xgb_list2\n",
    "}"
   ]
  },
  {
   "cell_type": "code",
   "execution_count": 111,
   "id": "7bc12558",
   "metadata": {},
   "outputs": [
    {
     "data": {
      "text/html": [
       "<div>\n",
       "<style scoped>\n",
       "    .dataframe tbody tr th:only-of-type {\n",
       "        vertical-align: middle;\n",
       "    }\n",
       "\n",
       "    .dataframe tbody tr th {\n",
       "        vertical-align: top;\n",
       "    }\n",
       "\n",
       "    .dataframe thead th {\n",
       "        text-align: right;\n",
       "    }\n",
       "</style>\n",
       "<table border=\"1\" class=\"dataframe\">\n",
       "  <thead>\n",
       "    <tr style=\"text-align: right;\">\n",
       "      <th></th>\n",
       "      <th>LogisticRegression</th>\n",
       "      <th>DecisionTree</th>\n",
       "      <th>RandomForest</th>\n",
       "      <th>NaiveBayes</th>\n",
       "      <th>XGBoost</th>\n",
       "    </tr>\n",
       "  </thead>\n",
       "  <tbody>\n",
       "    <tr>\n",
       "      <th>Accuracy</th>\n",
       "      <td>0.859216</td>\n",
       "      <td>0.928742</td>\n",
       "      <td>0.958577</td>\n",
       "      <td>0.459732</td>\n",
       "      <td>0.941715</td>\n",
       "    </tr>\n",
       "    <tr>\n",
       "      <th>Precision</th>\n",
       "      <td>0.839499</td>\n",
       "      <td>0.904061</td>\n",
       "      <td>0.968260</td>\n",
       "      <td>0.448018</td>\n",
       "      <td>0.916941</td>\n",
       "    </tr>\n",
       "    <tr>\n",
       "      <th>Recall</th>\n",
       "      <td>0.839867</td>\n",
       "      <td>0.937122</td>\n",
       "      <td>0.936333</td>\n",
       "      <td>0.994300</td>\n",
       "      <td>0.953609</td>\n",
       "    </tr>\n",
       "    <tr>\n",
       "      <th>F1-Score</th>\n",
       "      <td>0.839683</td>\n",
       "      <td>0.920295</td>\n",
       "      <td>0.952029</td>\n",
       "      <td>0.617706</td>\n",
       "      <td>0.934915</td>\n",
       "    </tr>\n",
       "  </tbody>\n",
       "</table>\n",
       "</div>"
      ],
      "text/plain": [
       "           LogisticRegression  DecisionTree  RandomForest  NaiveBayes  \\\n",
       "Accuracy             0.859216      0.928742      0.958577    0.459732   \n",
       "Precision            0.839499      0.904061      0.968260    0.448018   \n",
       "Recall               0.839867      0.937122      0.936333    0.994300   \n",
       "F1-Score             0.839683      0.920295      0.952029    0.617706   \n",
       "\n",
       "            XGBoost  \n",
       "Accuracy   0.941715  \n",
       "Precision  0.916941  \n",
       "Recall     0.953609  \n",
       "F1-Score   0.934915  "
      ]
     },
     "execution_count": 111,
     "metadata": {},
     "output_type": "execute_result"
    }
   ],
   "source": [
    "row_names = [\"Accuracy\", \"Precision\", \"Recall\", \"F1-Score\"]\n",
    "ModelsAfterEDA = pd.DataFrame(list2,index = row_names)\n",
    "ModelsAfterEDA"
   ]
  },
  {
   "cell_type": "markdown",
   "id": "e10b0e52",
   "metadata": {},
   "source": [
    "# Feature Selection using RFE"
   ]
  },
  {
   "cell_type": "code",
   "execution_count": 112,
   "id": "1669b489",
   "metadata": {},
   "outputs": [],
   "source": [
    "from sklearn.feature_selection import RFE\n",
    "from sklearn.tree import DecisionTreeClassifier\n",
    "dtree = DecisionTreeClassifier()\n",
    "rfe = RFE(dtree)"
   ]
  },
  {
   "cell_type": "code",
   "execution_count": 113,
   "id": "2ee825e3",
   "metadata": {},
   "outputs": [
    {
     "data": {
      "text/html": [
       "<div>\n",
       "<style scoped>\n",
       "    .dataframe tbody tr th:only-of-type {\n",
       "        vertical-align: middle;\n",
       "    }\n",
       "\n",
       "    .dataframe tbody tr th {\n",
       "        vertical-align: top;\n",
       "    }\n",
       "\n",
       "    .dataframe thead th {\n",
       "        text-align: right;\n",
       "    }\n",
       "</style>\n",
       "<table border=\"1\" class=\"dataframe\">\n",
       "  <thead>\n",
       "    <tr style=\"text-align: right;\">\n",
       "      <th></th>\n",
       "      <th>feature</th>\n",
       "      <th>columns</th>\n",
       "    </tr>\n",
       "  </thead>\n",
       "  <tbody>\n",
       "    <tr>\n",
       "      <th>0</th>\n",
       "      <td>False</td>\n",
       "      <td>Gender</td>\n",
       "    </tr>\n",
       "    <tr>\n",
       "      <th>1</th>\n",
       "      <td>False</td>\n",
       "      <td>Customer Type</td>\n",
       "    </tr>\n",
       "    <tr>\n",
       "      <th>2</th>\n",
       "      <td>True</td>\n",
       "      <td>Age</td>\n",
       "    </tr>\n",
       "    <tr>\n",
       "      <th>3</th>\n",
       "      <td>True</td>\n",
       "      <td>Type of Travel</td>\n",
       "    </tr>\n",
       "    <tr>\n",
       "      <th>4</th>\n",
       "      <td>False</td>\n",
       "      <td>Class</td>\n",
       "    </tr>\n",
       "    <tr>\n",
       "      <th>5</th>\n",
       "      <td>True</td>\n",
       "      <td>Flight Distance</td>\n",
       "    </tr>\n",
       "    <tr>\n",
       "      <th>6</th>\n",
       "      <td>True</td>\n",
       "      <td>Inflight wifi service</td>\n",
       "    </tr>\n",
       "    <tr>\n",
       "      <th>7</th>\n",
       "      <td>False</td>\n",
       "      <td>Departure/Arrival time convenient</td>\n",
       "    </tr>\n",
       "    <tr>\n",
       "      <th>8</th>\n",
       "      <td>False</td>\n",
       "      <td>Ease of Online booking</td>\n",
       "    </tr>\n",
       "    <tr>\n",
       "      <th>9</th>\n",
       "      <td>True</td>\n",
       "      <td>Gate location</td>\n",
       "    </tr>\n",
       "    <tr>\n",
       "      <th>10</th>\n",
       "      <td>False</td>\n",
       "      <td>Food and drink</td>\n",
       "    </tr>\n",
       "    <tr>\n",
       "      <th>11</th>\n",
       "      <td>True</td>\n",
       "      <td>Online boarding</td>\n",
       "    </tr>\n",
       "    <tr>\n",
       "      <th>12</th>\n",
       "      <td>False</td>\n",
       "      <td>Seat comfort</td>\n",
       "    </tr>\n",
       "    <tr>\n",
       "      <th>13</th>\n",
       "      <td>True</td>\n",
       "      <td>Inflight entertainment</td>\n",
       "    </tr>\n",
       "    <tr>\n",
       "      <th>14</th>\n",
       "      <td>False</td>\n",
       "      <td>On-board service</td>\n",
       "    </tr>\n",
       "    <tr>\n",
       "      <th>15</th>\n",
       "      <td>False</td>\n",
       "      <td>Leg room service</td>\n",
       "    </tr>\n",
       "    <tr>\n",
       "      <th>16</th>\n",
       "      <td>True</td>\n",
       "      <td>Baggage handling</td>\n",
       "    </tr>\n",
       "    <tr>\n",
       "      <th>17</th>\n",
       "      <td>True</td>\n",
       "      <td>Checkin service</td>\n",
       "    </tr>\n",
       "    <tr>\n",
       "      <th>18</th>\n",
       "      <td>True</td>\n",
       "      <td>Inflight service</td>\n",
       "    </tr>\n",
       "    <tr>\n",
       "      <th>19</th>\n",
       "      <td>False</td>\n",
       "      <td>Cleanliness</td>\n",
       "    </tr>\n",
       "  </tbody>\n",
       "</table>\n",
       "</div>"
      ],
      "text/plain": [
       "    feature                            columns\n",
       "0     False                             Gender\n",
       "1     False                      Customer Type\n",
       "2      True                                Age\n",
       "3      True                     Type of Travel\n",
       "4     False                              Class\n",
       "5      True                    Flight Distance\n",
       "6      True              Inflight wifi service\n",
       "7     False  Departure/Arrival time convenient\n",
       "8     False             Ease of Online booking\n",
       "9      True                      Gate location\n",
       "10    False                     Food and drink\n",
       "11     True                    Online boarding\n",
       "12    False                       Seat comfort\n",
       "13     True             Inflight entertainment\n",
       "14    False                   On-board service\n",
       "15    False                   Leg room service\n",
       "16     True                   Baggage handling\n",
       "17     True                    Checkin service\n",
       "18     True                   Inflight service\n",
       "19    False                        Cleanliness"
      ]
     },
     "execution_count": 113,
     "metadata": {},
     "output_type": "execute_result"
    }
   ],
   "source": [
    "rfe.fit(x_train2,y_train2)\n",
    "rfe.support_\n",
    "rdf = pd.DataFrame({\"feature\":list(rfe.support_),\"columns\":list(x_train2.columns)})\n",
    "rdf"
   ]
  },
  {
   "cell_type": "code",
   "execution_count": 114,
   "id": "22a74904",
   "metadata": {},
   "outputs": [
    {
     "data": {
      "text/html": [
       "<div>\n",
       "<style scoped>\n",
       "    .dataframe tbody tr th:only-of-type {\n",
       "        vertical-align: middle;\n",
       "    }\n",
       "\n",
       "    .dataframe tbody tr th {\n",
       "        vertical-align: top;\n",
       "    }\n",
       "\n",
       "    .dataframe thead th {\n",
       "        text-align: right;\n",
       "    }\n",
       "</style>\n",
       "<table border=\"1\" class=\"dataframe\">\n",
       "  <thead>\n",
       "    <tr style=\"text-align: right;\">\n",
       "      <th></th>\n",
       "      <th>Customer Type</th>\n",
       "      <th>Age</th>\n",
       "      <th>Type of Travel</th>\n",
       "      <th>Flight Distance</th>\n",
       "      <th>Inflight wifi service</th>\n",
       "      <th>Gate location</th>\n",
       "      <th>Online boarding</th>\n",
       "      <th>Inflight entertainment</th>\n",
       "      <th>Baggage handling</th>\n",
       "      <th>Checkin service</th>\n",
       "      <th>Inflight service</th>\n",
       "    </tr>\n",
       "  </thead>\n",
       "  <tbody>\n",
       "    <tr>\n",
       "      <th>0</th>\n",
       "      <td>0</td>\n",
       "      <td>13</td>\n",
       "      <td>1</td>\n",
       "      <td>7.719443</td>\n",
       "      <td>3</td>\n",
       "      <td>1</td>\n",
       "      <td>3</td>\n",
       "      <td>5</td>\n",
       "      <td>4</td>\n",
       "      <td>4</td>\n",
       "      <td>5</td>\n",
       "    </tr>\n",
       "    <tr>\n",
       "      <th>1</th>\n",
       "      <td>1</td>\n",
       "      <td>25</td>\n",
       "      <td>0</td>\n",
       "      <td>6.171006</td>\n",
       "      <td>3</td>\n",
       "      <td>3</td>\n",
       "      <td>3</td>\n",
       "      <td>1</td>\n",
       "      <td>3</td>\n",
       "      <td>1</td>\n",
       "      <td>4</td>\n",
       "    </tr>\n",
       "    <tr>\n",
       "      <th>2</th>\n",
       "      <td>0</td>\n",
       "      <td>26</td>\n",
       "      <td>0</td>\n",
       "      <td>10.452545</td>\n",
       "      <td>2</td>\n",
       "      <td>2</td>\n",
       "      <td>5</td>\n",
       "      <td>5</td>\n",
       "      <td>4</td>\n",
       "      <td>4</td>\n",
       "      <td>4</td>\n",
       "    </tr>\n",
       "    <tr>\n",
       "      <th>3</th>\n",
       "      <td>0</td>\n",
       "      <td>25</td>\n",
       "      <td>0</td>\n",
       "      <td>8.252372</td>\n",
       "      <td>2</td>\n",
       "      <td>5</td>\n",
       "      <td>2</td>\n",
       "      <td>2</td>\n",
       "      <td>3</td>\n",
       "      <td>1</td>\n",
       "      <td>4</td>\n",
       "    </tr>\n",
       "    <tr>\n",
       "      <th>4</th>\n",
       "      <td>0</td>\n",
       "      <td>61</td>\n",
       "      <td>0</td>\n",
       "      <td>5.981424</td>\n",
       "      <td>3</td>\n",
       "      <td>3</td>\n",
       "      <td>5</td>\n",
       "      <td>3</td>\n",
       "      <td>4</td>\n",
       "      <td>3</td>\n",
       "      <td>3</td>\n",
       "    </tr>\n",
       "    <tr>\n",
       "      <th>...</th>\n",
       "      <td>...</td>\n",
       "      <td>...</td>\n",
       "      <td>...</td>\n",
       "      <td>...</td>\n",
       "      <td>...</td>\n",
       "      <td>...</td>\n",
       "      <td>...</td>\n",
       "      <td>...</td>\n",
       "      <td>...</td>\n",
       "      <td>...</td>\n",
       "      <td>...</td>\n",
       "    </tr>\n",
       "    <tr>\n",
       "      <th>103899</th>\n",
       "      <td>1</td>\n",
       "      <td>23</td>\n",
       "      <td>0</td>\n",
       "      <td>5.768998</td>\n",
       "      <td>2</td>\n",
       "      <td>3</td>\n",
       "      <td>2</td>\n",
       "      <td>2</td>\n",
       "      <td>4</td>\n",
       "      <td>2</td>\n",
       "      <td>3</td>\n",
       "    </tr>\n",
       "    <tr>\n",
       "      <th>103900</th>\n",
       "      <td>0</td>\n",
       "      <td>49</td>\n",
       "      <td>0</td>\n",
       "      <td>13.289369</td>\n",
       "      <td>4</td>\n",
       "      <td>4</td>\n",
       "      <td>4</td>\n",
       "      <td>5</td>\n",
       "      <td>5</td>\n",
       "      <td>5</td>\n",
       "      <td>5</td>\n",
       "    </tr>\n",
       "    <tr>\n",
       "      <th>103901</th>\n",
       "      <td>1</td>\n",
       "      <td>30</td>\n",
       "      <td>0</td>\n",
       "      <td>12.588702</td>\n",
       "      <td>1</td>\n",
       "      <td>3</td>\n",
       "      <td>1</td>\n",
       "      <td>4</td>\n",
       "      <td>4</td>\n",
       "      <td>5</td>\n",
       "      <td>5</td>\n",
       "    </tr>\n",
       "    <tr>\n",
       "      <th>103902</th>\n",
       "      <td>1</td>\n",
       "      <td>22</td>\n",
       "      <td>0</td>\n",
       "      <td>10.000000</td>\n",
       "      <td>1</td>\n",
       "      <td>5</td>\n",
       "      <td>1</td>\n",
       "      <td>1</td>\n",
       "      <td>1</td>\n",
       "      <td>5</td>\n",
       "      <td>4</td>\n",
       "    </tr>\n",
       "    <tr>\n",
       "      <th>103903</th>\n",
       "      <td>0</td>\n",
       "      <td>27</td>\n",
       "      <td>0</td>\n",
       "      <td>11.988415</td>\n",
       "      <td>1</td>\n",
       "      <td>3</td>\n",
       "      <td>1</td>\n",
       "      <td>1</td>\n",
       "      <td>4</td>\n",
       "      <td>4</td>\n",
       "      <td>3</td>\n",
       "    </tr>\n",
       "  </tbody>\n",
       "</table>\n",
       "<p>103904 rows × 11 columns</p>\n",
       "</div>"
      ],
      "text/plain": [
       "        Customer Type  Age  Type of Travel  Flight Distance  \\\n",
       "0                   0   13               1         7.719443   \n",
       "1                   1   25               0         6.171006   \n",
       "2                   0   26               0        10.452545   \n",
       "3                   0   25               0         8.252372   \n",
       "4                   0   61               0         5.981424   \n",
       "...               ...  ...             ...              ...   \n",
       "103899              1   23               0         5.768998   \n",
       "103900              0   49               0        13.289369   \n",
       "103901              1   30               0        12.588702   \n",
       "103902              1   22               0        10.000000   \n",
       "103903              0   27               0        11.988415   \n",
       "\n",
       "        Inflight wifi service  Gate location  Online boarding  \\\n",
       "0                           3              1                3   \n",
       "1                           3              3                3   \n",
       "2                           2              2                5   \n",
       "3                           2              5                2   \n",
       "4                           3              3                5   \n",
       "...                       ...            ...              ...   \n",
       "103899                      2              3                2   \n",
       "103900                      4              4                4   \n",
       "103901                      1              3                1   \n",
       "103902                      1              5                1   \n",
       "103903                      1              3                1   \n",
       "\n",
       "        Inflight entertainment  Baggage handling  Checkin service  \\\n",
       "0                            5                 4                4   \n",
       "1                            1                 3                1   \n",
       "2                            5                 4                4   \n",
       "3                            2                 3                1   \n",
       "4                            3                 4                3   \n",
       "...                        ...               ...              ...   \n",
       "103899                       2                 4                2   \n",
       "103900                       5                 5                5   \n",
       "103901                       4                 4                5   \n",
       "103902                       1                 1                5   \n",
       "103903                       1                 4                4   \n",
       "\n",
       "        Inflight service  \n",
       "0                      5  \n",
       "1                      4  \n",
       "2                      4  \n",
       "3                      4  \n",
       "4                      3  \n",
       "...                  ...  \n",
       "103899                 3  \n",
       "103900                 5  \n",
       "103901                 5  \n",
       "103902                 4  \n",
       "103903                 3  \n",
       "\n",
       "[103904 rows x 11 columns]"
      ]
     },
     "execution_count": 114,
     "metadata": {},
     "output_type": "execute_result"
    }
   ],
   "source": [
    "feature_train = x_train2.drop([\"Gender\",\"Class\",\"Departure/Arrival time convenient\",\"Ease of Online booking\",\"Food and drink\",\"Seat comfort\",\"On-board service\",\"Leg room service\",\"Cleanliness\"],axis =1)\n",
    "feature_train"
   ]
  },
  {
   "cell_type": "markdown",
   "id": "15b8e5e2",
   "metadata": {},
   "source": [
    "# Models After FS"
   ]
  },
  {
   "cell_type": "code",
   "execution_count": 115,
   "id": "2338986d",
   "metadata": {},
   "outputs": [],
   "source": [
    "from sklearn.model_selection import train_test_split"
   ]
  },
  {
   "cell_type": "code",
   "execution_count": 116,
   "id": "570e654a",
   "metadata": {},
   "outputs": [],
   "source": [
    "x_train3,x_test3,y_train3,y_test3 = train_test_split(feature_train,  \n",
    "                                        y_train2,\n",
    "                                        test_size=.2,\n",
    "                                        random_state=101)"
   ]
  },
  {
   "cell_type": "code",
   "execution_count": 117,
   "id": "35c2e864",
   "metadata": {
    "scrolled": true
   },
   "outputs": [
    {
     "data": {
      "text/plain": [
       "((83123, 11), (20781, 11), (83123,), (20781,))"
      ]
     },
     "execution_count": 117,
     "metadata": {},
     "output_type": "execute_result"
    }
   ],
   "source": [
    "x_train3.shape,x_test3.shape,y_train3.shape,y_test3.shape"
   ]
  },
  {
   "cell_type": "markdown",
   "id": "ae24ae43",
   "metadata": {},
   "source": [
    "## Logistic Regression"
   ]
  },
  {
   "cell_type": "code",
   "execution_count": 118,
   "id": "5289e0aa",
   "metadata": {},
   "outputs": [
    {
     "data": {
      "text/plain": [
       "86.16043501275203"
      ]
     },
     "execution_count": 118,
     "metadata": {},
     "output_type": "execute_result"
    }
   ],
   "source": [
    "lg.fit(x_train3, y_train3)\n",
    "lg_p3=lg.predict(x_test3)\n",
    "lg_m3 = confusion_matrix(lg_p3,y_test3)\n",
    "lg_acc3 = lg_m3.diagonal().sum()/lg_m3.sum()*100\n",
    "lg_acc3"
   ]
  },
  {
   "cell_type": "code",
   "execution_count": 119,
   "id": "9ad1362a",
   "metadata": {},
   "outputs": [
    {
     "name": "stdout",
     "output_type": "stream",
     "text": [
      "              precision    recall  f1-score   support\n",
      "\n",
      "           0       0.88      0.88      0.88     11900\n",
      "           1       0.83      0.84      0.84      8881\n",
      "\n",
      "    accuracy                           0.86     20781\n",
      "   macro avg       0.86      0.86      0.86     20781\n",
      "weighted avg       0.86      0.86      0.86     20781\n",
      "\n"
     ]
    }
   ],
   "source": [
    "print(classification_report(lg_p3,y_test3))"
   ]
  },
  {
   "cell_type": "code",
   "execution_count": 120,
   "id": "862e4d08",
   "metadata": {},
   "outputs": [],
   "source": [
    "lg_list3=[accuracy_score(y_test3, lg_p3),precision_score(y_test3, lg_p3),recall_score(y_test3, lg_p3), f1_score(y_test3, lg_p3)]"
   ]
  },
  {
   "cell_type": "markdown",
   "id": "996a2867",
   "metadata": {},
   "source": [
    "## Decision Tree"
   ]
  },
  {
   "cell_type": "code",
   "execution_count": 121,
   "id": "1e12df06",
   "metadata": {},
   "outputs": [
    {
     "data": {
      "text/plain": [
       "93.81165487705115"
      ]
     },
     "execution_count": 121,
     "metadata": {},
     "output_type": "execute_result"
    }
   ],
   "source": [
    "dt.fit(x_train3,y_train3)\n",
    "dt_p3 = dt.predict(x_test3)\n",
    "dt_m3 = confusion_matrix(dt_p3,y_test3)\n",
    "dt_acc3 = dt_m3.diagonal().sum()/dt_m3.sum()*100\n",
    "dt_acc3"
   ]
  },
  {
   "cell_type": "code",
   "execution_count": 122,
   "id": "c0283aa5",
   "metadata": {},
   "outputs": [
    {
     "name": "stdout",
     "output_type": "stream",
     "text": [
      "              precision    recall  f1-score   support\n",
      "\n",
      "           0       0.94      0.95      0.95     11702\n",
      "           1       0.93      0.92      0.93      9079\n",
      "\n",
      "    accuracy                           0.94     20781\n",
      "   macro avg       0.94      0.94      0.94     20781\n",
      "weighted avg       0.94      0.94      0.94     20781\n",
      "\n"
     ]
    }
   ],
   "source": [
    "print(classification_report(dt_p3,y_test3))"
   ]
  },
  {
   "cell_type": "code",
   "execution_count": 123,
   "id": "c37dd5d3",
   "metadata": {},
   "outputs": [],
   "source": [
    "dt_list3=[accuracy_score(y_test3, dt_p3),precision_score(y_test3, dt_p3),recall_score(y_test3, dt_p3), f1_score(y_test3, dt_p3)]"
   ]
  },
  {
   "cell_type": "markdown",
   "id": "c06585fd",
   "metadata": {},
   "source": [
    "## Random Forest"
   ]
  },
  {
   "cell_type": "code",
   "execution_count": 124,
   "id": "7dea9082",
   "metadata": {},
   "outputs": [
    {
     "data": {
      "text/plain": [
       "95.77017467879313"
      ]
     },
     "execution_count": 124,
     "metadata": {},
     "output_type": "execute_result"
    }
   ],
   "source": [
    "rf.fit(x_train3,y_train3)\n",
    "rf_p3 = rf.predict(x_test3)\n",
    "rf_m3 = confusion_matrix(rf_p3,y_test3)\n",
    "rf_acc3 = rf_m3.diagonal().sum()/rf_m3.sum()*100   \n",
    "rf_acc3"
   ]
  },
  {
   "cell_type": "code",
   "execution_count": 125,
   "id": "49d418f1",
   "metadata": {},
   "outputs": [
    {
     "name": "stdout",
     "output_type": "stream",
     "text": [
      "              precision    recall  f1-score   support\n",
      "\n",
      "           0       0.97      0.95      0.96     12061\n",
      "           1       0.94      0.96      0.95      8720\n",
      "\n",
      "    accuracy                           0.96     20781\n",
      "   macro avg       0.96      0.96      0.96     20781\n",
      "weighted avg       0.96      0.96      0.96     20781\n",
      "\n"
     ]
    }
   ],
   "source": [
    "print(classification_report(rf_p3,y_test3))"
   ]
  },
  {
   "cell_type": "code",
   "execution_count": 126,
   "id": "87086c0a",
   "metadata": {},
   "outputs": [],
   "source": [
    "rf_list3=[accuracy_score(y_test3, rf_p3),precision_score(y_test3, rf_p3),recall_score(y_test3, rf_p3), f1_score(y_test3, rf_p3)]"
   ]
  },
  {
   "cell_type": "markdown",
   "id": "936126d9",
   "metadata": {},
   "source": [
    "## Naive Bayes"
   ]
  },
  {
   "cell_type": "code",
   "execution_count": 127,
   "id": "237025af",
   "metadata": {},
   "outputs": [],
   "source": [
    "from sklearn.naive_bayes import MultinomialNB\n",
    "nb = MultinomialNB()"
   ]
  },
  {
   "cell_type": "code",
   "execution_count": 128,
   "id": "e80d9bf7",
   "metadata": {},
   "outputs": [
    {
     "data": {
      "text/plain": [
       "84.14898224339541"
      ]
     },
     "execution_count": 128,
     "metadata": {},
     "output_type": "execute_result"
    }
   ],
   "source": [
    "nb.fit(x_train3,y_train3)\n",
    "nb_p3 = nb.predict(x_test3)\n",
    "nb_m3 = confusion_matrix(nb_p3,y_test3)\n",
    "nb_acc3 = nb_m3.diagonal().sum()/nb_m3.sum()*100\n",
    "nb_acc3"
   ]
  },
  {
   "cell_type": "code",
   "execution_count": 129,
   "id": "1a669083",
   "metadata": {},
   "outputs": [
    {
     "name": "stdout",
     "output_type": "stream",
     "text": [
      "              precision    recall  f1-score   support\n",
      "\n",
      "           0       0.87      0.86      0.86     11964\n",
      "           1       0.81      0.82      0.81      8817\n",
      "\n",
      "    accuracy                           0.84     20781\n",
      "   macro avg       0.84      0.84      0.84     20781\n",
      "weighted avg       0.84      0.84      0.84     20781\n",
      "\n"
     ]
    }
   ],
   "source": [
    "print(classification_report(nb_p3,y_test3))"
   ]
  },
  {
   "cell_type": "code",
   "execution_count": 130,
   "id": "fa7894d6",
   "metadata": {},
   "outputs": [],
   "source": [
    "nb_list3=[accuracy_score(y_test3, nb_p3),precision_score(y_test3, nb_p3),recall_score(y_test3, nb_p3), f1_score(y_test3, nb_p3)]"
   ]
  },
  {
   "cell_type": "markdown",
   "id": "a73fd338",
   "metadata": {},
   "source": [
    "## XGBoost"
   ]
  },
  {
   "cell_type": "code",
   "execution_count": 131,
   "id": "d672389c",
   "metadata": {},
   "outputs": [
    {
     "data": {
      "text/plain": [
       "95.77498676675809"
      ]
     },
     "execution_count": 131,
     "metadata": {},
     "output_type": "execute_result"
    }
   ],
   "source": [
    "xgb.fit(x_train3,y_train3)\n",
    "xgb_p3 = xgb.predict(x_test3)\n",
    "xgb_m3 = confusion_matrix(xgb_p3,y_test3)\n",
    "xgb_ac3 = xgb_m3.diagonal().sum()/xgb_m3.sum()*100\n",
    "xgb_ac3"
   ]
  },
  {
   "cell_type": "code",
   "execution_count": 132,
   "id": "97f4a282",
   "metadata": {},
   "outputs": [
    {
     "name": "stdout",
     "output_type": "stream",
     "text": [
      "              precision    recall  f1-score   support\n",
      "\n",
      "           0       0.97      0.95      0.96     12054\n",
      "           1       0.94      0.96      0.95      8727\n",
      "\n",
      "    accuracy                           0.96     20781\n",
      "   macro avg       0.96      0.96      0.96     20781\n",
      "weighted avg       0.96      0.96      0.96     20781\n",
      "\n"
     ]
    }
   ],
   "source": [
    "print(classification_report(xgb_p3,y_test3))"
   ]
  },
  {
   "cell_type": "code",
   "execution_count": 133,
   "id": "8cf910e6",
   "metadata": {},
   "outputs": [],
   "source": [
    "xgb_list3=[accuracy_score(y_test3, xgb_p3),precision_score(y_test3, xgb_p3),recall_score(y_test3, xgb_p3), f1_score(y_test3, xgb_p3)]"
   ]
  },
  {
   "cell_type": "markdown",
   "id": "4544f520",
   "metadata": {},
   "source": [
    "## DF After FS "
   ]
  },
  {
   "cell_type": "code",
   "execution_count": 134,
   "id": "e0b7c5d0",
   "metadata": {},
   "outputs": [],
   "source": [
    "list3 = {\n",
    "    \"LogisticRegression\": lg_list3,\n",
    "    \"DecisionTree\": dt_list3,\n",
    "    \"RandomForest\": rf_list3,\n",
    "    \"NaiveBayes\": nb_list3,\n",
    "    \"XGBoost\": xgb_list3\n",
    "}"
   ]
  },
  {
   "cell_type": "code",
   "execution_count": 135,
   "id": "fc534bd1",
   "metadata": {},
   "outputs": [
    {
     "data": {
      "text/html": [
       "<div>\n",
       "<style scoped>\n",
       "    .dataframe tbody tr th:only-of-type {\n",
       "        vertical-align: middle;\n",
       "    }\n",
       "\n",
       "    .dataframe tbody tr th {\n",
       "        vertical-align: top;\n",
       "    }\n",
       "\n",
       "    .dataframe thead th {\n",
       "        text-align: right;\n",
       "    }\n",
       "</style>\n",
       "<table border=\"1\" class=\"dataframe\">\n",
       "  <thead>\n",
       "    <tr style=\"text-align: right;\">\n",
       "      <th></th>\n",
       "      <th>LogisticRegression</th>\n",
       "      <th>DecisionTree</th>\n",
       "      <th>RandomForest</th>\n",
       "      <th>NaiveBayes</th>\n",
       "      <th>XGBoost</th>\n",
       "    </tr>\n",
       "  </thead>\n",
       "  <tbody>\n",
       "    <tr>\n",
       "      <th>Accuracy</th>\n",
       "      <td>0.861604</td>\n",
       "      <td>0.938117</td>\n",
       "      <td>0.957702</td>\n",
       "      <td>0.841490</td>\n",
       "      <td>0.957750</td>\n",
       "    </tr>\n",
       "    <tr>\n",
       "      <th>Precision</th>\n",
       "      <td>0.842923</td>\n",
       "      <td>0.923009</td>\n",
       "      <td>0.963761</td>\n",
       "      <td>0.821708</td>\n",
       "      <td>0.963447</td>\n",
       "    </tr>\n",
       "    <tr>\n",
       "      <th>Recall</th>\n",
       "      <td>0.834839</td>\n",
       "      <td>0.934538</td>\n",
       "      <td>0.937214</td>\n",
       "      <td>0.807963</td>\n",
       "      <td>0.937660</td>\n",
       "    </tr>\n",
       "    <tr>\n",
       "      <th>F1-Score</th>\n",
       "      <td>0.838861</td>\n",
       "      <td>0.928738</td>\n",
       "      <td>0.950302</td>\n",
       "      <td>0.814777</td>\n",
       "      <td>0.950379</td>\n",
       "    </tr>\n",
       "  </tbody>\n",
       "</table>\n",
       "</div>"
      ],
      "text/plain": [
       "           LogisticRegression  DecisionTree  RandomForest  NaiveBayes  \\\n",
       "Accuracy             0.861604      0.938117      0.957702    0.841490   \n",
       "Precision            0.842923      0.923009      0.963761    0.821708   \n",
       "Recall               0.834839      0.934538      0.937214    0.807963   \n",
       "F1-Score             0.838861      0.928738      0.950302    0.814777   \n",
       "\n",
       "            XGBoost  \n",
       "Accuracy   0.957750  \n",
       "Precision  0.963447  \n",
       "Recall     0.937660  \n",
       "F1-Score   0.950379  "
      ]
     },
     "execution_count": 135,
     "metadata": {},
     "output_type": "execute_result"
    }
   ],
   "source": [
    "row_names = [\"Accuracy\", \"Precision\", \"Recall\", \"F1-Score\"]\n",
    "ModelsAfterFS = pd.DataFrame(list3,index = row_names)\n",
    "ModelsAfterFS"
   ]
  },
  {
   "cell_type": "markdown",
   "id": "d4fcc0a6",
   "metadata": {},
   "source": [
    "- Based on all these results, it seems reasonable to conclude that the **feature selected Random Forest model** is the selected model, as it has the highest accuracy and performs well across all other key metrics, making it a strong choice for classification task."
   ]
  },
  {
   "cell_type": "markdown",
   "id": "a06892fb",
   "metadata": {},
   "source": [
    "# AUCROC for feature selected Random Forest model"
   ]
  },
  {
   "cell_type": "code",
   "execution_count": 136,
   "id": "e8291665",
   "metadata": {},
   "outputs": [
    {
     "data": {
      "image/png": "[encoded data removed]",
      "text/plain": [
       "<Figure size 400x400 with 1 Axes>"
      ]
     },
     "metadata": {},
     "output_type": "display_data"
    }
   ],
   "source": [
    "from sklearn.metrics import roc_curve, roc_auc_score\n",
    "import matplotlib.pyplot as plt\n",
    "\n",
    "# Assuming you have already trained your model and made predictions (rf_p3 and y_test3)\n",
    "\n",
    "# Calculate the predicted probabilities for the positive class\n",
    "rf_probabilities = rf.predict_proba(x_test3)[:, 1]\n",
    "\n",
    "# Calculate the ROC curve\n",
    "fpr, tpr, thresholds = roc_curve(y_test3, rf_probabilities)\n",
    "\n",
    "# Calculate the AUC (Area Under the Curve)\n",
    "roc_auc = roc_auc_score(y_test3, rf_probabilities)\n",
    "\n",
    "# Plot the ROC curve\n",
    "plt.figure(figsize=(4, 4))\n",
    "plt.plot(fpr, tpr, color='darkorange', lw=2, label=f'ROC curve (AUC = {roc_auc:.2f})')\n",
    "plt.plot([0, 1], [0, 1], color='navy', lw=2, linestyle='--')\n",
    "plt.xlim([0.0, 1.0])\n",
    "plt.ylim([0.0, 1.05])\n",
    "plt.xlabel('False Positive Rate')\n",
    "plt.ylabel('True Positive Rate')\n",
    "plt.title('Receiver Operating Characteristic (ROC) Curve')\n",
    "plt.legend(loc='lower right')\n",
    "plt.show()\n"
   ]
  },
  {
   "cell_type": "markdown",
   "id": "beeeb64e",
   "metadata": {},
   "source": [
    "# Cross Validation"
   ]
  },
  {
   "cell_type": "markdown",
   "id": "2050f93f",
   "metadata": {},
   "source": [
    "## Stratified K Fold cross validation"
   ]
  },
  {
   "cell_type": "code",
   "execution_count": 137,
   "id": "30cca146",
   "metadata": {},
   "outputs": [
    {
     "name": "stdout",
     "output_type": "stream",
     "text": [
      "Accuracy Scores for Each Fold: [0.95747368 0.95554887 0.95560902 0.95584697 0.95500481]\n",
      "Average Accuracy: 0.9559 (±0.00084)\n"
     ]
    }
   ],
   "source": [
    "from sklearn.model_selection import StratifiedKFold, cross_val_score\n",
    "from sklearn.model_selection import train_test_split\n",
    "\n",
    "# Initialize the classifier (replace with your chosen classifier)\n",
    "classifier = RandomForestClassifier()\n",
    "\n",
    "# Specify the number of desired folds (K)\n",
    "n_splits = 5  # For example, use 5-fold cross-validation\n",
    "\n",
    "# Create the StratifiedKFold object\n",
    "stratified_kfold = StratifiedKFold(n_splits=n_splits, shuffle=True, random_state=42)\n",
    "\n",
    "# Perform cross-validation and collect performance metrics (e.g., accuracy)\n",
    "scores = cross_val_score(classifier, x_train3, y_train3, cv=stratified_kfold, scoring='accuracy')\n",
    "print(\"Accuracy Scores for Each Fold:\", scores)\n",
    "\n",
    "# Calculate and print the average accuracy and its standard deviation\n",
    "average_accuracy = scores.mean()\n",
    "std_deviation = scores.std()\n",
    "print(f'Average Accuracy: {average_accuracy:.4f} (±{std_deviation:.5f})')\n"
   ]
  },
  {
   "cell_type": "markdown",
   "id": "071c73a0",
   "metadata": {},
   "source": [
    "# Conclusion"
   ]
  },
  {
   "cell_type": "markdown",
   "id": "4d644805",
   "metadata": {},
   "source": [
    "#### Before EDA (Exploratory Data Analysis):\n",
    "1. Logistic Regression and Decision Tree models have decent accuracy but relatively lower precision and recall. The F1-Score is moderate.\n",
    "2. **Random Forest and XGBoost** models perform well in terms of accuracy, precision, recall, and F1-Score.\n",
    "3. Naive Bayes has the lowest accuracy and F1-Score among the models, indicating it may not be well-suited for this dataset.\n",
    "\n",
    "#### After EDA (Exploratory Data Analysis):\n",
    "1. Logistic Regression's performance improved slightly, with better precision, recall, and F1-Score.\n",
    "2. Decision Tree's accuracy increased significantly, and it now has a balanced precision and recall.\n",
    "3. **Random Forest** maintained its high accuracy and precision, and its recall improved.\n",
    "4. Naive Bayes saw a substantial improvement in recall but still has low precision, making it sensitive to false positives.\n",
    "5. XGBoost's performance remains strong.\n",
    "\n",
    "#### After Feature Selection (FS):\n",
    "1. Logistic Regression's accuracy improved slightly, and precision and recall are well-balanced.\n",
    "2. Decision Tree's accuracy improved further, and it still has a balanced precision and recall.\n",
    "3. **Random Forest** maintained its high accuracy, precision, and recall, making it a robust choice.\n",
    "4. Naive Bayes saw a decrease in accuracy and recall but maintained a relatively good F1-Score.\n",
    "5. XGBoost maintained its strong performance, with high accuracy, precision, and recall."
   ]
  },
  {
   "cell_type": "code",
   "execution_count": null,
   "id": "489a06bd",
   "metadata": {},
   "outputs": [],
   "source": []
  }
 ],
 "metadata": {
  "kernelspec": {
   "display_name": "Python 3 (ipykernel)",
   "language": "python",
   "name": "python3"
  },
  "language_info": {
   "codemirror_mode": {
    "name": "ipython",
    "version": 3
   },
   "file_extension": ".py",
   "mimetype": "text/x-python",
   "name": "python",
   "nbconvert_exporter": "python",
   "pygments_lexer": "ipython3",
   "version": "3.10.9"
  }
 },
 "nbformat": 4,
 "nbformat_minor": 5
}
